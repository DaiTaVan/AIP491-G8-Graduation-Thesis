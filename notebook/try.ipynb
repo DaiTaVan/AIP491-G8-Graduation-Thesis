{
 "cells": [
  {
   "cell_type": "code",
   "execution_count": 1,
   "metadata": {},
   "outputs": [
    {
     "name": "stderr",
     "output_type": "stream",
     "text": [
      "/home/tavandai/.local/lib/python3.10/site-packages/tqdm/auto.py:21: TqdmWarning: IProgress not found. Please update jupyter and ipywidgets. See https://ipywidgets.readthedocs.io/en/stable/user_install.html\n",
      "  from .autonotebook import tqdm as notebook_tqdm\n"
     ]
    }
   ],
   "source": [
    "from datasets import load_dataset\n",
    "from tqdm import tqdm\n",
    "import json"
   ]
  },
  {
   "cell_type": "code",
   "execution_count": 4,
   "metadata": {},
   "outputs": [
    {
     "name": "stderr",
     "output_type": "stream",
     "text": [
      "Generating train split: 31433 examples [00:02, 14507.84 examples/s]\n",
      "Generating validation split: 1746 examples [00:00, 16515.02 examples/s]\n",
      "Generating test split: 1747 examples [00:00, 14324.83 examples/s]\n"
     ]
    }
   ],
   "source": [
    "df = load_dataset('dataset/vn-legal-conversation')"
   ]
  },
  {
   "cell_type": "code",
   "execution_count": 5,
   "metadata": {},
   "outputs": [
    {
     "data": {
      "text/plain": [
       "DatasetDict({\n",
       "    train: Dataset({\n",
       "        features: ['Unnamed: 0', 'Question', 'Answer'],\n",
       "        num_rows: 31433\n",
       "    })\n",
       "    validation: Dataset({\n",
       "        features: ['Unnamed: 0', 'Question', 'Answer'],\n",
       "        num_rows: 1746\n",
       "    })\n",
       "    test: Dataset({\n",
       "        features: ['Unnamed: 0', 'Question', 'Answer'],\n",
       "        num_rows: 1747\n",
       "    })\n",
       "})"
      ]
     },
     "execution_count": 5,
     "metadata": {},
     "output_type": "execute_result"
    }
   ],
   "source": [
    "df"
   ]
  },
  {
   "cell_type": "code",
   "execution_count": 6,
   "metadata": {},
   "outputs": [
    {
     "data": {
      "text/plain": [
       "{'Unnamed: 0': 2879,\n",
       " 'Question': 'Mẹ tôi và dượng tôi ở với nhau gần 10 năm nhưng không đăng ký kết hôn. Nay dượng tôi phản bội mẹ tôi, có vợ mới và muốn chia đôi số tài sản, trong đó tiền vốn là của tôi bỏ ra cho mẹ tôi làm ăn. Ông ta đòi làm đơn kiện nếu mẹ tôi không đồng ý chia đôi số tài sản hiện tại. Trường hợp này phải giải quyết như thế nào? (Số tiền tôi đưa mẹ làm ăn không có giấy tờ gì chứng minh cả)',\n",
       " 'Answer': 'Khoản 1 Điều 9 Luật hôn nhân và gia đình 2014 quy định: “Việc kết hôn phải được đăng ký và do cơ quan nhà nước có thẩm quyền thực hiện theo quy định của Luật này và pháp luật về hộ tịch. Việc kết hôn không được đăng ký theo quy định tại khoản này thì không có giá trị pháp lý”. Trường hợp bạn nêu, mẹ và dượng bạn sống chung nhưng không đăng ký kết hôn nên giữa mẹ và dượng bạn không tồn tại quan hệ hôn nhân. Cụ thể, theo quy định tại khoản 1 Điều 14 Luật này thì nam, nữ có đủ điều kiện kết hôn theo quy định của Luật này chung sống với nhau như vợ chồng mà không đăng ký kết hôn thì không làm phát sinh quyền, nghĩa vụ giữa vợ và chồng. Quan hệ tài sản, nghĩa vụ và hợp đồng trong trường hợp này được giải quyết theo thỏa thuận giữa các bên. Nếu các bên không có thỏa thuận thì giải quyết theo quy định của Bộ luật dân sự và các quy định khác của pháp luật có liên quan trên cơ sở bảo đảm quyền và lợi ích hợp pháp của phụ nữ và con theo hướng tài sản riêng của ai thì vẫn thuộc quyền sở hữu của người đó. Tài sản do hai người cùng tạo lập mà không thể tự thỏa thuận việc chia như thế nào thì Tòa án sẽ xem xét dựa trên công sức đóng góp của mỗi bên. Từ các quy định trên có thể thấy rằng việc dượng bạn yêu cầu chia đôi số tài sản là không có căn cứ. Tuy nhiên, mẹ bạn cần chuẩn bị những tài liệu, chứng cứ chứng minh về khoản tiền đã đưa vào kinh doanh để Tòa án xem xét, đánh giá đúng công sức đóng góp của mỗi bên khi giải quyết việc chia tài sản.'}"
      ]
     },
     "execution_count": 6,
     "metadata": {},
     "output_type": "execute_result"
    }
   ],
   "source": [
    "df[\"train\"][0]"
   ]
  },
  {
   "cell_type": "code",
   "execution_count": 7,
   "metadata": {},
   "outputs": [
    {
     "data": {
      "text/plain": [
       "31433"
      ]
     },
     "execution_count": 7,
     "metadata": {},
     "output_type": "execute_result"
    }
   ],
   "source": [
    "len(df['train'])"
   ]
  },
  {
   "cell_type": "code",
   "execution_count": 8,
   "metadata": {},
   "outputs": [
    {
     "name": "stderr",
     "output_type": "stream",
     "text": [
      "100%|██████████| 31433/31433 [00:02<00:00, 11346.97it/s]\n"
     ]
    }
   ],
   "source": [
    "alpaca_dataset = []\n",
    "\n",
    "for i in tqdm(range(len(df['train']))):\n",
    "    element = df[\"train\"][i]\n",
    "    alpaca_dataset.append({\n",
    "    \"instruction\": \"Bạn là một chuyên gia về pháp luật Việt Nam với nhiều năm kinh nghiệm. Nhiệm vụ của bạn là cung cấp các câu trả lời chính xác, lập luận chặt chẽ, và xác thực. Hãy giúp mọi người giải đáp rõ ràng cho câu hỏi dưới đây:\",\n",
    "    \"input\": element[\"Question\"],\n",
    "    \"output\": element[\"Answer\"],\n",
    "    \"system\": \"\",\n",
    "    \"history\": []\n",
    "    })"
   ]
  },
  {
   "cell_type": "code",
   "execution_count": 9,
   "metadata": {},
   "outputs": [],
   "source": [
    "json.dump(alpaca_dataset, open('dataset/sample_train_alpaca_law_dataset.json', 'w'), ensure_ascii=False, indent=2)"
   ]
  },
  {
   "cell_type": "code",
   "execution_count": 12,
   "metadata": {},
   "outputs": [
    {
     "name": "stderr",
     "output_type": "stream",
     "text": [
      "100%|██████████| 1746/1746 [00:00<00:00, 10129.73it/s]\n"
     ]
    }
   ],
   "source": [
    "alpaca_dataset = []\n",
    "\n",
    "for i in tqdm(range(len(df['validation']))):\n",
    "    element = df[\"validation\"][i]\n",
    "    alpaca_dataset.append({\n",
    "    \"instruction\": \"Bạn là một chuyên gia về pháp luật Việt Nam với nhiều năm kinh nghiệm. Nhiệm vụ của bạn là cung cấp các câu trả lời chính xác, lập luận chặt chẽ, và xác thực. Hãy giúp mọi người giải đáp rõ ràng cho câu hỏi dưới đây:\",\n",
    "    \"input\": element[\"Question\"],\n",
    "    \"output\": element[\"Answer\"],\n",
    "    \"system\": \"\",\n",
    "    \"history\": []\n",
    "    })"
   ]
  },
  {
   "cell_type": "code",
   "execution_count": 13,
   "metadata": {},
   "outputs": [],
   "source": [
    "json.dump(alpaca_dataset, open('dataset/sample_validation_alpaca_law_dataset.json', 'w'), ensure_ascii=False, indent=2)"
   ]
  },
  {
   "cell_type": "code",
   "execution_count": 14,
   "metadata": {},
   "outputs": [
    {
     "name": "stderr",
     "output_type": "stream",
     "text": [
      "100%|██████████| 1747/1747 [00:00<00:00, 10417.97it/s]\n"
     ]
    }
   ],
   "source": [
    "alpaca_dataset = []\n",
    "\n",
    "for i in tqdm(range(len(df['test']))):\n",
    "    element = df[\"test\"][i]\n",
    "    alpaca_dataset.append({\n",
    "    \"instruction\": \"Bạn là một chuyên gia về pháp luật Việt Nam với nhiều năm kinh nghiệm. Nhiệm vụ của bạn là cung cấp các câu trả lời chính xác, lập luận chặt chẽ, và xác thực. Hãy giúp mọi người giải đáp rõ ràng cho câu hỏi dưới đây:\",\n",
    "    \"input\": element[\"Question\"],\n",
    "    \"output\": element[\"Answer\"],\n",
    "    \"system\": \"\",\n",
    "    \"history\": []\n",
    "    })"
   ]
  },
  {
   "cell_type": "code",
   "execution_count": 15,
   "metadata": {},
   "outputs": [],
   "source": [
    "json.dump(alpaca_dataset, open('dataset/sample_test_alpaca_law_dataset.json', 'w'), ensure_ascii=False, indent=2)"
   ]
  },
  {
   "cell_type": "code",
   "execution_count": null,
   "metadata": {},
   "outputs": [],
   "source": [
    "!docker build -f ./docker/docker-cuda/Dockerfile \\\n",
    "    --build-arg INSTALL_BNB=false \\\n",
    "    --build-arg INSTALL_VLLM=false \\\n",
    "    --build-arg INSTALL_DEEPSPEED=true \\\n",
    "    --build-arg INSTALL_FLASHATTN=true \\\n",
    "    --build-arg PIP_INDEX=https://pypi.org/simple \\\n",
    "    -t llamafactory:latest ."
   ]
  },
  {
   "cell_type": "code",
   "execution_count": null,
   "metadata": {},
   "outputs": [],
   "source": [
    "nvidia-docker run --name llamafactory-dai -it -v /data2/dai:/workspace/share --shm-size=64g -p 7860:7860 -p 8000:8000 llamafactory:latest"
   ]
  },
  {
   "cell_type": "code",
   "execution_count": null,
   "metadata": {},
   "outputs": [],
   "source": [
    "nvidia-docker exec -it llamafactory-dai /bin/bash"
   ]
  },
  {
   "cell_type": "code",
   "execution_count": null,
   "metadata": {},
   "outputs": [],
   "source": [
    "!torchrun src/train.py \\\n",
    "    --stage sft \\\n",
    "    --do_train \\\n",
    "    --use_fast_tokenizer \\\n",
    "    --flash_attn auto\\\n",
    "    --model_name_or_path Qwen2.5-7B-Instruct \\\n",
    "    --dataset train_alpaca_law \\\n",
    "    --template qwen \\\n",
    "    --finetuning_type lora \\\n",
    "    --lora_target q_proj,v_proj\\\n",
    "    --output_dir output \\\n",
    "    --overwrite_cache \\\n",
    "    --overwrite_output_dir \\\n",
    "    --warmup_steps 100 \\\n",
    "    --weight_decay 0.1 \\\n",
    "    --per_device_train_batch_size 1 \\\n",
    "    --gradient_accumulation_steps 8 \\\n",
    "    --ddp_timeout 9000 \\\n",
    "    --learning_rate 5e-6 \\\n",
    "    --lr_scheduler_type cosine \\\n",
    "    --logging_steps 10 \\\n",
    "    --cutoff_len 2048 \\\n",
    "    --save_steps 1000 \\\n",
    "    --plot_loss \\\n",
    "    --num_train_epochs 1 \\\n",
    "    --save_total_limit 2 \\\n",
    "    --bf16 \n",
    "    # \\\n",
    "    # --quantization_bit 8 \\\n",
    "    # --quantization_method bitsandbytes \\\n",
    "    \n",
    "    # \\\n",
    "    # --resume_from_checkpoint output/checkpoint-24000\n"
   ]
  },
  {
   "cell_type": "code",
   "execution_count": null,
   "metadata": {},
   "outputs": [],
   "source": [
    "!torchrun src/train.py \\\n",
    "    --stage sft \\\n",
    "    --do_train \\\n",
    "    --use_fast_tokenizer \\\n",
    "    --flash_attn auto\\\n",
    "    --model_name_or_path Qwen2.5-7B-Instruct \\\n",
    "    --dataset train_alpaca_law \\\n",
    "    --eval_dataset validation_alpaca_law \\\n",
    "    --template qwen \\\n",
    "    --finetuning_type lora \\\n",
    "    --lora_target q_proj,v_proj\\\n",
    "    --output_dir output \\\n",
    "    --overwrite_cache \\\n",
    "    --overwrite_output_dir \\\n",
    "    --warmup_steps 100 \\\n",
    "    --weight_decay 0.1 \\\n",
    "    --per_device_train_batch_size 1 \\\n",
    "    --gradient_accumulation_steps 4 \\\n",
    "    --ddp_timeout 9000 \\\n",
    "    --learning_rate 5e-6 \\\n",
    "    --lr_scheduler_type cosine \\\n",
    "    --logging_steps 10 \\\n",
    "    --cutoff_len 4096 \\\n",
    "    --save_steps 1000 \\\n",
    "    --plot_loss \\\n",
    "    --num_train_epochs 3 \\\n",
    "    --bf16 \\\n",
    "    --quantization_bit 8 \\\n",
    "    --quantization_method bitsandbytes \\\n",
    "    --save_total_limit 1 \\\n",
    "    --resume_from_checkpoint output/checkpoint-24000\n"
   ]
  },
  {
   "cell_type": "code",
   "execution_count": null,
   "metadata": {},
   "outputs": [],
   "source": [
    "CUDA_VISIBLE_DEVICES=0 llamafactory-cli train \\\n",
    "    --model_name_or_path Qwen2.5-7B-Instruct-fintune \\\n",
    "    --stage sft \\\n",
    "    --do_predict \\\n",
    "    --finetuning_type lora \\\n",
    "    --eval_dataset validation_alpaca_law \\\n",
    "    --template qwen \\\n",
    "    --cutoff_len 4096 \\\n",
    "    --max_samples 500000 \\\n",
    "    --overwrite_cache true \\\n",
    "    --preprocessing_num_workers 32 \\\n",
    "    --output_dir output/predict \\\n",
    "    --overwrite_output_dir true \\\n",
    "    --per_device_eval_batch_size 1 \\\n",
    "    --predict_with_generate true \\\n",
    "    --ddp_timeout 180000000 \\\n",
    "    --bf16 \\\n",
    "    --quantization_bit 8 \\\n",
    "    --quantization_method bitsandbytes "
   ]
  },
  {
   "cell_type": "code",
   "execution_count": null,
   "metadata": {},
   "outputs": [],
   "source": [
    "    # --adapter_name_or_path output/checkpoint-47148 \\"
   ]
  },
  {
   "cell_type": "code",
   "execution_count": null,
   "metadata": {},
   "outputs": [],
   "source": [
    "!CUDA_VISIBLE_DEVICES=\"0\" llamafactory-cli export \\\n",
    "    --model_name_or_path Qwen2.5-7B-Instruct \\\n",
    "    --adapter_name_or_path output \\\n",
    "    --template qwen \\\n",
    "    --finetuning_type lora \\\n",
    "    --export_dir Qwen2.5-7B-Instruct-finetune-full \\\n",
    "    --export_size 4 \\\n",
    "    --export_legacy_format False"
   ]
  },
  {
   "cell_type": "code",
   "execution_count": 34,
   "metadata": {},
   "outputs": [],
   "source": [
    "import glob\n",
    "import json\n",
    "import os\n",
    "from urllib.parse import urlparse, unquote\n",
    "from tqdm import tqdm"
   ]
  },
  {
   "cell_type": "code",
   "execution_count": 35,
   "metadata": {},
   "outputs": [],
   "source": [
    "def get_filename_from_url(url):\n",
    "    # Parse the URL to extract the path\n",
    "    parsed_url = urlparse(url)\n",
    "    # Decode non-ASCII characters\n",
    "    path = unquote(parsed_url.path)\n",
    "    # Extract the file name from the path\n",
    "    filename = os.path.basename(path)\n",
    "    output_name = '__SLASH__'.join([url.split('/')[-2], filename])\n",
    "    return output_name"
   ]
  },
  {
   "cell_type": "code",
   "execution_count": 36,
   "metadata": {},
   "outputs": [
    {
     "data": {
      "text/plain": [
       "'5ta1506062t1cvn__SLASH__21_2024_DS_GDT.pdf'"
      ]
     },
     "execution_count": 36,
     "metadata": {},
     "output_type": "execute_result"
    }
   ],
   "source": [
    "get_filename_from_url('https://congbobanan.toaan.gov.vn/5ta1506062t1cvn/21_2024_DS_GDT.pdf')"
   ]
  },
  {
   "cell_type": "code",
   "execution_count": 37,
   "metadata": {},
   "outputs": [],
   "source": [
    "files = glob.glob('dataset/vu_an/*/*')"
   ]
  },
  {
   "cell_type": "code",
   "execution_count": 38,
   "metadata": {},
   "outputs": [
    {
     "data": {
      "text/plain": [
       "(100000,\n",
       " ['dataset/vu_an/6/5ta1455906t1cvn__SLASH__sample_23.pdf',\n",
       "  'dataset/vu_an/6/5ta1455908t1cvn__SLASH__sample_25.pdf',\n",
       "  'dataset/vu_an/6/5ta1455909t1cvn__SLASH__Ban_an_ma_hoa.pdf',\n",
       "  'dataset/vu_an/6/5ta1455912t1cvn__SLASH__ban_an_ma_hoa.pdf',\n",
       "  'dataset/vu_an/6/5ta1455917t1cvn__SLASH__ban_an_ma_hoa.pdf'])"
      ]
     },
     "execution_count": 38,
     "metadata": {},
     "output_type": "execute_result"
    }
   ],
   "source": [
    "len(files), files[:5]"
   ]
  },
  {
   "cell_type": "code",
   "execution_count": 39,
   "metadata": {},
   "outputs": [
    {
     "data": {
      "text/plain": [
       "'0/5ta1506062t1cvn__SLASH__21_2024_DS_GDT.pdf'"
      ]
     },
     "execution_count": 39,
     "metadata": {},
     "output_type": "execute_result"
    }
   ],
   "source": [
    "map_file_location = {file.split('/')[-1]: '/'.join(file.split('/')[-2:]) for file in files}\n",
    "map_file_location['5ta1506062t1cvn__SLASH__21_2024_DS_GDT.pdf']"
   ]
  },
  {
   "cell_type": "code",
   "execution_count": 40,
   "metadata": {},
   "outputs": [
    {
     "data": {
      "text/plain": [
       "True"
      ]
     },
     "execution_count": 40,
     "metadata": {},
     "output_type": "execute_result"
    }
   ],
   "source": [
    "'5ta1506062t1cvn__SLASH__21_2024_DS_GDT.pdf' in map_file_location"
   ]
  },
  {
   "cell_type": "code",
   "execution_count": 41,
   "metadata": {},
   "outputs": [
    {
     "data": {
      "text/plain": [
       "{'title': 'Quyết định: số 21/2024/DS-GĐT ngày 25/04/2024 của Tòa án nhân dân tối cao (10.05.2024)',\n",
       " 'url': 'https://congbobanan.toaan.gov.vn/2ta1506062t1cvn/chi-tiet-ban-an',\n",
       " 'metadata': 'Tên quyết định: Tranh chấp quyền sử dụng đất, đòi lại tài sản, tranh chấp di sản thừa kế (15.07.2024)\\nQuan hệ pháp luật:Tranh chấp đất đai\\nCấp xét xử: Giám đốc thẩm\\nLoại vụ/việc:Dân sự\\nTòa án xét xử:Tòa án nhân dân tối cao\\nÁp dụng án lệ: Không\\nĐính chính: 0\\nThông tin về vụ/việc: Tại đơn khởi kiện ngày 20/5/2014 của bà Lê Thu H và quá trình giải quyết vụ án, đại diện người kế thừa quyền, nghĩa vụ tố tụng của bà H là chị Trịnh Thị Mộng T trình bày: Phần đất có diện tích 1.390m2, tọa lạc tại ấp Vĩnh L, xã Vĩnh T, huyện Vĩnh T, thành phố Cần Thơ thuộc các thửa đất số 373 và 375, tờ bản đồ số 02, bà H được Ủy ban nhân dân huyện Thốt N (cũ) cấp Giấy chứng nhận quyền sử dụng ruộng đất ngày 25/4/1990 và cấp Giấy chứng nhận quyền sử dụng đất ngày 10/5/1996. Thửa đất số 374 của cụ Lê Thị N1 (bác ruột của bà H) giáp ranh với thửa đất số 373 và 375 của bà H; cụ N1 đã tự ý lấn chiếm một phần đất, chiều ngang 09m, dài 25m, diện tích 225m2 thuộc thửa đất số 373, tờ bản đồ số 02 nêu trên để trồng cây trái. Bà H khởi kiện yêu cầu cụ N1 trả phần đất dã lấn chiếm của bà H. Trên thửa đất số 373, gia đình bà H có một căn nhà cấp 4, bằng gỗ thao lao, vách tole, mái lợp tole, chiều ngang 5,5m, dài 13m, diện tích 71,5m2, trị giá khoảng 70.000.000 đồng. Khi ông Nguyễn Chi P (con cụ Lê Thị Đ1) mới cưới vợ chưa có chỗ ở, gia đình bà H đồng ý cho ông P mượn ở tạm, nhưng không lập giấy tờ. Bà H khởi kiện yêu cầu ông P phải thu dọn đồ đạc, trả lại gia đình bà phần đất và căn nhà cấp 4 nêu trên. Bà H chết năm 2016. Tại phiên tòa sơ thẩm, chị T (con bà H và cũng là người đại diện theo ủy quyền của những người kế thừa quyền, nghĩa vụ tố tụng của bà H) đã rút yêu cầu khởi kiện đối với cụ N1, chỉ yêu cầu ông P trả lại nhà đất thuộc thửa đất số 373 nêu trên.\\nTổng số lượt được bình chọn làm nguồn phát triển án lệ: 0',\n",
       " 'original_filename': 'Tải quyết định',\n",
       " 'download_link': 'https://congbobanan.toaan.gov.vn/5ta1506062t1cvn/21_2024_DS_GDT.pdf'}"
      ]
     },
     "execution_count": 41,
     "metadata": {},
     "output_type": "execute_result"
    }
   ],
   "source": [
    "with open(\"/media/tavandai/DATA1/fpt_university/Graduation_Thesis/AIP491-G8-Graduation-Thesis/dataset/vu_an/metadata.txt\") as f1:\n",
    "    lines = [json.loads(line.strip()) for line in f1.readlines()]\n",
    "lines[0]"
   ]
  },
  {
   "cell_type": "code",
   "execution_count": 47,
   "metadata": {},
   "outputs": [
    {
     "data": {
      "text/plain": [
       "{'title': 'Quyết định: số 09/2023/DS-GĐT ngày 06/04/2023 của Tòa án nhân dân tối cao (21.04.2023)',\n",
       " 'url': 'https://congbobanan.toaan.gov.vn/2ta1457007t1cvn/chi-tiet-ban-an',\n",
       " 'metadata': 'Tên quyết định: Tranh chấp quyền sử dụng đất và yêu cầu hủy giấy chứng nhận quyền sử dụng đất (22.04.2024)\\nQuan hệ pháp luật:Tranh chấp quyền sử dụng đất\\nCấp xét xử: Giám đốc thẩm\\nLoại vụ/việc:Dân sự\\nTòa án xét xử:Tòa án nhân dân tối cao\\nÁp dụng án lệ: Không\\nĐính chính: 0\\nThông tin về vụ/việc: Theo đơn khởi kiện đề ngày 11/4/2012 và các lời khai trong quá trình tố tụng, nguyên đơn là cụ Huỳnh Thị T (do ông Dương Hồng B là người đại diện theo ủy quyền, đồng thời là người có quyền lợi, nghĩa vụ liên quan) trình bày: Diện tích 1.838m2 đất đang tranh chấp (nằm trong diện tích khoảng 3.500m2 thuộc thửa cũ 252, 253, 200 tờ bản đồ số 08), nay thuộc thửa mới là 155a, 157a, 158, 159, 160 tờ bản đồ số 20 xã Phú H có nguồn gốc là của cố Huỳnh Thị B2 để lại cho cụ Huỳnh Thị T (mẹ của ông B). Do ông B sống chung với cụ T nên cụ T giao cho ông B trực tiếp quản lý, sử dụng đất từ năm 1975. Năm 1978, ông B lén chuyển nhượng cho ông C diện tích khoảng 1.000m2 đất với giá 15 giạ lúa để trả nợ, không đo đạc xác định ranh giới cũng như không làm giấy tờ gì. Năm 2000, ông Nguyễn Trung C hỏi mượn ông B diện tích đất còn lại khoảng 2.500m2 là đất trũng, ông C có đắp bờ ao xung quanh nuôi tôm, cá. Năm 2008, khi ông C tranh chấp đất với ông Võ Văn H2 thì có nhờ ông B viết “Tờ xác nhận ngày 09/4/2008” xác nhận ông B đã chuyển nhượng cho ông C diện tích 3.500m2 đất nêu trên (có xác nhận của chị ruột ông B là bà Dương Thị N), mục đích là để ông C đòi đất của ông H2 đã lấn chiếm rồi trả lại cho ông B. Sau đó, ông C mới viết tờ hứa hẹn ngày 10/10/2009, hứa giao lại số ruộng 1.900m2 đất đã mượn. Vì nghĩ đất trũng không sản xuất được, sợ đóng thuế, nên ông B không đăng ký, kê khai. Ngày 24/8/2010, vợ chồng ông C, bà Nguyễn Thị Bạch N2 làm giấy thỏa thuận với ông B là 49m2 thửa 252 (nằm trong phần đất 1.000m2 đã chuyển nhượng) chừa 1,2m làm đường cống thoát nước cặp theo trường học Dương Văn T4 và yêu cầu ông B cho lại 5.000.000 đồng để trị bệnh cho con của ông C. Ngày 19/10/2010, ông C hứa giao trả lại đất cho ông B và hẹn ba ngày sau sẽ tiến hành thủ tục nhưng sau đó ông C không trả lại. Hiện nay, phần đất tranh chấp ông C đã làm thủ tục tặng cho ông Nguyễn Văn N1, chị Nguyễn Thị Ngọc N4, chị Nguyễn Thị Ngọc H, chị Nguyễn Thị Ngọc N3 (chị N3 sang tên lại cho anh Nguyễn Văn B1), nên cụ T yêu cầu ông C, bà N2, ông N1, anh B1, chị N3, chị H, chị N4 phải trả lại phần diện tích đất 1.838m2 theo đo đạc thực tế gồm các thửa 155a, 157a, 158, 159, 160 tờ bản đồ số 20 tại xã Phú H, huyện Nhơn T, tỉnh Đồng Nai và yêu cầu:+ Hủy một phần Giấy chứng nhận Giấy chứng nhận quyền sử dụng đất (viết tắt là GCNQSDĐ) do Ủy ban nhân dân huyện Nhơn T cấp ngày 31/5/2012 cho ông Nguyễn Văn N1 đối với diện tích 853m2 thuộc thửa đất 155b. + Hủy một phần GCNQSDĐ do Ủy ban nhân dân huyện Nhơn T cấp ngày 05/9/2013 cho anh Nguyễn Văn B1 đối với diện tích 211m2 thuộc thửa đất 157a. + Hủy GCNQSDĐ do Ủy ban nhân dân huyện Nhơn T cấp ngày 31/5/2012 cho chị Nguyễn Thị Ngọc N4 đối với diện tích 258m2 thuộc thửa đất 158. + Hủy GCNQSDĐ do Ủy ban nhân dân huyện Nhơn T cấp ngày 31/5/2012 cho chị Nguyễn Thị Ngọc N4 đối với diện tích 256m2 thuộc thửa đất 159. + Hủy GCNQSDĐ do Ủy ban nhân dân huyện Nhơn T cấp ngày 31/5/2012 cho chị Nguyễn Thị Ngọc H đối với diện tích 260m2 thuộc thửa đất 160.\\nTổng số lượt được bình chọn làm nguồn phát triển án lệ: 0',\n",
       " 'original_filename': 'Tải quyết định',\n",
       " 'download_link': 'https://congbobanan.toaan.gov.vn/5ta1457007t1cvn/09_2023_DS_GDT.pdf'}"
      ]
     },
     "execution_count": 47,
     "metadata": {},
     "output_type": "execute_result"
    }
   ],
   "source": [
    "lines[100]"
   ]
  },
  {
   "cell_type": "code",
   "execution_count": 42,
   "metadata": {},
   "outputs": [],
   "source": [
    "for line in lines:\n",
    "    if 'tối cao' in line['title']:\n",
    "        pass\n",
    "    elif 'cấp cao' in line['title']:\n",
    "        pass\n",
    "    elif 'tỉnh' in line['title']:\n",
    "        pass\n",
    "    elif 'TAND TP' in line['title']:\n",
    "        pass\n",
    "    elif 'TAND Q' in line['title']:\n",
    "        pass\n",
    "    elif 'Quân khu' in line['title']:\n",
    "        pass\n",
    "    elif 'Quân sự' in line['title'] or 'TAQS' in line['title']:\n",
    "        pass\n",
    "    elif \"Thành phố \" in line['title']:\n",
    "        pass\n",
    "    elif \"TAND TX\" in line['title']:\n",
    "        pass\n",
    "    elif \"huyện\" in line['title']:\n",
    "        pass\n",
    "    else:\n",
    "        print(line)"
   ]
  },
  {
   "cell_type": "code",
   "execution_count": 61,
   "metadata": {},
   "outputs": [
    {
     "name": "stderr",
     "output_type": "stream",
     "text": [
      "100%|██████████| 102028/102028 [00:02<00:00, 41852.59it/s]\n"
     ]
    }
   ],
   "source": [
    "metadata_dict = {}\n",
    "\n",
    "for line in tqdm(lines):\n",
    "    page_link = line['url']\n",
    "    file_link = line['download_link']\n",
    "    file_name = get_filename_from_url(file_link)\n",
    "    if file_name in map_file_location:\n",
    "        file_path = map_file_location[file_name]\n",
    "    else:\n",
    "        continue\n",
    "    title = line['title']\n",
    "\n",
    "    if 'tối cao' in title:\n",
    "        cap_toa_an = 'tối cao'\n",
    "    elif 'cấp cao' in title:\n",
    "        cap_toa_an = 'cấp cao'\n",
    "    elif 'tỉnh' in title:\n",
    "        cap_toa_an = 'tỉnh'\n",
    "    elif 'TAND TP' in title:\n",
    "        cap_toa_an = 'thành phố'\n",
    "    elif 'TAND Q' in title:\n",
    "        cap_toa_an = 'quận'\n",
    "    elif 'Quân khu' in title:\n",
    "        cap_toa_an = 'quân khu'\n",
    "    elif 'Quân sự' in title or 'TAQS' in title:\n",
    "        cap_toa_an = 'quân sự'\n",
    "    elif \"Thành phố \" in title:\n",
    "        cap_toa_an = 'thành phố'\n",
    "    elif \"TAND TX\" in title:\n",
    "        cap_toa_an = 'thị xã'\n",
    "    elif \"huyện\" in title:\n",
    "        cap_toa_an = 'huyện'\n",
    "    else:\n",
    "        raise Exception\n",
    "\n",
    "    metadata_dict[file_path] = {\n",
    "        'page_link': page_link,\n",
    "        'file_link': file_link,\n",
    "        'file_name': file_name,\n",
    "        'title': title,\n",
    "        'cap_toa_an': cap_toa_an,\n",
    "    }\n",
    "    metadata = line['metadata'].split('\\n')\n",
    "    # print(metadata)\n",
    "    for ele in metadata:\n",
    "        # print(ele)\n",
    "        sub_ele = ele.split(':')\n",
    "        key = sub_ele[0].strip()\n",
    "        value  = ':'.join(sub_ele[1:]).strip()\n",
    "        metadata_dict[file_path][key] = value"
   ]
  },
  {
   "cell_type": "code",
   "execution_count": 62,
   "metadata": {},
   "outputs": [
    {
     "data": {
      "text/plain": [
       "{'page_link': 'https://congbobanan.toaan.gov.vn/2ta1506062t1cvn/chi-tiet-ban-an',\n",
       " 'file_link': 'https://congbobanan.toaan.gov.vn/5ta1506062t1cvn/21_2024_DS_GDT.pdf',\n",
       " 'file_name': '5ta1506062t1cvn__SLASH__21_2024_DS_GDT.pdf',\n",
       " 'title': 'Quyết định: số 21/2024/DS-GĐT ngày 25/04/2024 của Tòa án nhân dân tối cao (10.05.2024)',\n",
       " 'cap_toa_an': 'tối cao',\n",
       " 'Tên quyết định': 'Tranh chấp quyền sử dụng đất, đòi lại tài sản, tranh chấp di sản thừa kế (15.07.2024)',\n",
       " 'Quan hệ pháp luật': 'Tranh chấp đất đai',\n",
       " 'Cấp xét xử': 'Giám đốc thẩm',\n",
       " 'Loại vụ/việc': 'Dân sự',\n",
       " 'Tòa án xét xử': 'Tòa án nhân dân tối cao',\n",
       " 'Áp dụng án lệ': 'Không',\n",
       " 'Đính chính': '0',\n",
       " 'Thông tin về vụ/việc': 'Tại đơn khởi kiện ngày 20/5/2014 của bà Lê Thu H và quá trình giải quyết vụ án, đại diện người kế thừa quyền, nghĩa vụ tố tụng của bà H là chị Trịnh Thị Mộng T trình bày: Phần đất có diện tích 1.390m2, tọa lạc tại ấp Vĩnh L, xã Vĩnh T, huyện Vĩnh T, thành phố Cần Thơ thuộc các thửa đất số 373 và 375, tờ bản đồ số 02, bà H được Ủy ban nhân dân huyện Thốt N (cũ) cấp Giấy chứng nhận quyền sử dụng ruộng đất ngày 25/4/1990 và cấp Giấy chứng nhận quyền sử dụng đất ngày 10/5/1996. Thửa đất số 374 của cụ Lê Thị N1 (bác ruột của bà H) giáp ranh với thửa đất số 373 và 375 của bà H; cụ N1 đã tự ý lấn chiếm một phần đất, chiều ngang 09m, dài 25m, diện tích 225m2 thuộc thửa đất số 373, tờ bản đồ số 02 nêu trên để trồng cây trái. Bà H khởi kiện yêu cầu cụ N1 trả phần đất dã lấn chiếm của bà H. Trên thửa đất số 373, gia đình bà H có một căn nhà cấp 4, bằng gỗ thao lao, vách tole, mái lợp tole, chiều ngang 5,5m, dài 13m, diện tích 71,5m2, trị giá khoảng 70.000.000 đồng. Khi ông Nguyễn Chi P (con cụ Lê Thị Đ1) mới cưới vợ chưa có chỗ ở, gia đình bà H đồng ý cho ông P mượn ở tạm, nhưng không lập giấy tờ. Bà H khởi kiện yêu cầu ông P phải thu dọn đồ đạc, trả lại gia đình bà phần đất và căn nhà cấp 4 nêu trên. Bà H chết năm 2016. Tại phiên tòa sơ thẩm, chị T (con bà H và cũng là người đại diện theo ủy quyền của những người kế thừa quyền, nghĩa vụ tố tụng của bà H) đã rút yêu cầu khởi kiện đối với cụ N1, chỉ yêu cầu ông P trả lại nhà đất thuộc thửa đất số 373 nêu trên.',\n",
       " 'Tổng số lượt được bình chọn làm nguồn phát triển án lệ': '0'}"
      ]
     },
     "execution_count": 62,
     "metadata": {},
     "output_type": "execute_result"
    }
   ],
   "source": [
    "metadata_dict['0/5ta1506062t1cvn__SLASH__21_2024_DS_GDT.pdf']"
   ]
  },
  {
   "cell_type": "code",
   "execution_count": 63,
   "metadata": {},
   "outputs": [
    {
     "data": {
      "text/plain": [
       "99987"
      ]
     },
     "execution_count": 63,
     "metadata": {},
     "output_type": "execute_result"
    }
   ],
   "source": [
    "len(metadata_dict.keys())"
   ]
  },
  {
   "cell_type": "code",
   "execution_count": 67,
   "metadata": {},
   "outputs": [],
   "source": [
    "json.dump(metadata_dict, open('dataset/vu_an/metadata.json', 'w'), ensure_ascii=False, indent=2)"
   ]
  },
  {
   "cell_type": "code",
   "execution_count": 64,
   "metadata": {},
   "outputs": [
    {
     "data": {
      "text/plain": [
       "100000"
      ]
     },
     "execution_count": 64,
     "metadata": {},
     "output_type": "execute_result"
    }
   ],
   "source": [
    "len(files)"
   ]
  },
  {
   "cell_type": "code",
   "execution_count": 68,
   "metadata": {},
   "outputs": [],
   "source": [
    "keys_a = list(metadata_dict.keys())\n",
    "keys_b = list(map_file_location.values())"
   ]
  },
  {
   "cell_type": "code",
   "execution_count": 69,
   "metadata": {},
   "outputs": [
    {
     "data": {
      "text/plain": [
       "'0/5ta1506062t1cvn__SLASH__21_2024_DS_GDT.pdf'"
      ]
     },
     "execution_count": 69,
     "metadata": {},
     "output_type": "execute_result"
    }
   ],
   "source": [
    "keys_a[0]"
   ]
  },
  {
   "cell_type": "code",
   "execution_count": 70,
   "metadata": {},
   "outputs": [
    {
     "data": {
      "text/plain": [
       "'6/5ta1455906t1cvn__SLASH__sample_23.pdf'"
      ]
     },
     "execution_count": 70,
     "metadata": {},
     "output_type": "execute_result"
    }
   ],
   "source": [
    "keys_b[0]"
   ]
  },
  {
   "cell_type": "code",
   "execution_count": 72,
   "metadata": {},
   "outputs": [
    {
     "name": "stderr",
     "output_type": "stream",
     "text": [
      " 12%|█▏        | 11764/100000 [00:44<05:32, 265.32it/s]"
     ]
    },
    {
     "name": "stdout",
     "output_type": "stream",
     "text": [
      "0/5ta1093892t1cvn__SLASH__QD_so_242021HCGDT_vu_Sinh_Hoa__UBND_thanh_pho_Vinh.pdf\n",
      "0/5ta1093917t1cvn__SLASH__QD_so_352021HCGDT_vu_Nguyen_Thi_Kim.pdf\n"
     ]
    },
    {
     "name": "stderr",
     "output_type": "stream",
     "text": [
      " 13%|█▎        | 12805/100000 [00:47<02:12, 656.30it/s]"
     ]
    },
    {
     "name": "stdout",
     "output_type": "stream",
     "text": [
      "0/5ta1119000t1cvn__SLASH__QD_so_242021HCGDT_vu_Sinh_Hoa__UBND_thanh_pho_Vinh.pdf\n"
     ]
    },
    {
     "name": "stderr",
     "output_type": "stream",
     "text": [
      " 14%|█▍        | 14080/100000 [00:50<02:14, 639.90it/s]"
     ]
    },
    {
     "name": "stdout",
     "output_type": "stream",
     "text": [
      "0/5ta1094325t1cvn__SLASH__QD_so_452021HCGDT_vu_Lan__Binh_Phuoc.pdf\n"
     ]
    },
    {
     "name": "stderr",
     "output_type": "stream",
     "text": [
      " 18%|█▊        | 17949/100000 [00:59<03:00, 453.45it/s]"
     ]
    },
    {
     "name": "stdout",
     "output_type": "stream",
     "text": [
      "0/5ta1062196t1cvn__SLASH__QD_so_412021HSGDT.pdf\n"
     ]
    },
    {
     "name": "stderr",
     "output_type": "stream",
     "text": [
      " 29%|██▉       | 29288/100000 [01:25<02:56, 400.94it/s]"
     ]
    },
    {
     "name": "stdout",
     "output_type": "stream",
     "text": [
      "1/5ta817596t1cvn__SLASH__Vu_GiupCTUBND_tinh_An_Giang_so_272021HCGDT.pdf\n",
      "1/5ta817601t1cvn__SLASH__Vu_ThuyCTUBND_TP_Buon_Ma_Thuot_so_322021HCGDT.pdf\n"
     ]
    },
    {
     "name": "stderr",
     "output_type": "stream",
     "text": [
      " 34%|███▍      | 33762/100000 [01:38<02:38, 418.49it/s]"
     ]
    },
    {
     "name": "stdout",
     "output_type": "stream",
     "text": [
      "2/5ta817616t1cvn__SLASH__Vu_Tac_LoanCT_UBND_TP_Can_Tho_so_262021HCGDT.pdf\n"
     ]
    },
    {
     "name": "stderr",
     "output_type": "stream",
     "text": [
      " 61%|██████    | 60936/100000 [03:03<02:33, 254.03it/s]"
     ]
    },
    {
     "name": "stdout",
     "output_type": "stream",
     "text": [
      "5/5ta1428456t1cvn__SLASH__72_2023_HC_GDT.pdf\n"
     ]
    },
    {
     "name": "stderr",
     "output_type": "stream",
     "text": [
      " 69%|██████▉   | 69351/100000 [03:38<01:28, 347.89it/s]"
     ]
    },
    {
     "name": "stdout",
     "output_type": "stream",
     "text": [
      "5/5ta1458323t1cvn__SLASH__58_2023_DSGDT.pdf\n",
      "5/5ta1458324t1cvn__SLASH__59_2023_DSGDT.pdf\n"
     ]
    },
    {
     "name": "stderr",
     "output_type": "stream",
     "text": [
      " 70%|███████   | 70052/100000 [03:41<01:53, 265.02it/s]"
     ]
    },
    {
     "name": "stdout",
     "output_type": "stream",
     "text": [
      "7/Tran_Van_Manh.pdf\n",
      "7/y_thng__h_cuong.pdf\n"
     ]
    },
    {
     "name": "stderr",
     "output_type": "stream",
     "text": [
      "100%|██████████| 100000/100000 [06:57<00:00, 239.33it/s]\n"
     ]
    }
   ],
   "source": [
    "missing = []\n",
    "for ele in tqdm(keys_b):\n",
    "    if ele not in keys_a:\n",
    "        print(ele)\n",
    "        missing.append(ele)"
   ]
  },
  {
   "cell_type": "code",
   "execution_count": 73,
   "metadata": {},
   "outputs": [],
   "source": [
    "missing_f = [ele for ele in missing if 'SLASH' in ele]"
   ]
  },
  {
   "cell_type": "code",
   "execution_count": 74,
   "metadata": {},
   "outputs": [
    {
     "data": {
      "text/plain": [
       "(13, 11)"
      ]
     },
     "execution_count": 74,
     "metadata": {},
     "output_type": "execute_result"
    }
   ],
   "source": [
    "len(missing), len(missing_f)"
   ]
  },
  {
   "cell_type": "code",
   "execution_count": 76,
   "metadata": {},
   "outputs": [],
   "source": [
    "link = 'https://congbobanan.toaan.gov.vn/5ta1093892t1cvn/QD_so_242021HCGDT_vu_Sinh_Hoa__UBND_thanh_pho_Vinh.pdf'"
   ]
  },
  {
   "cell_type": "code",
   "execution_count": 77,
   "metadata": {},
   "outputs": [],
   "source": [
    "for line in lines:\n",
    "    if line['download_link'] == link:\n",
    "        print(line)"
   ]
  },
  {
   "cell_type": "code",
   "execution_count": null,
   "metadata": {},
   "outputs": [],
   "source": []
  }
 ],
 "metadata": {
  "kernelspec": {
   "display_name": "torch",
   "language": "python",
   "name": "python3"
  },
  "language_info": {
   "codemirror_mode": {
    "name": "ipython",
    "version": 3
   },
   "file_extension": ".py",
   "mimetype": "text/x-python",
   "name": "python",
   "nbconvert_exporter": "python",
   "pygments_lexer": "ipython3",
   "version": "3.10.0"
  }
 },
 "nbformat": 4,
 "nbformat_minor": 2
}
