{
 "cells": [
  {
   "cell_type": "code",
   "execution_count": 7,
   "metadata": {},
   "outputs": [],
   "source": [
    "import json\n",
    "from llm import OpenAI\n",
    "from agent import Agent1, Agent2"
   ]
  },
  {
   "cell_type": "code",
   "execution_count": 2,
   "metadata": {},
   "outputs": [],
   "source": [
    "llm_model = OpenAI(api_key=\"\")"
   ]
  },
  {
   "cell_type": "code",
   "execution_count": 3,
   "metadata": {},
   "outputs": [],
   "source": [
    "with open('config/agent.json') as f1:\n",
    "    config = json.load(f1)"
   ]
  },
  {
   "cell_type": "code",
   "execution_count": 4,
   "metadata": {},
   "outputs": [],
   "source": [
    "agent1 = Agent1(llm=llm_model,\n",
    "                config=config['Agent_1'])\n",
    "agent2 = Agent2(llm=llm_model,\n",
    "                config=config['Agent_2'])"
   ]
  },
  {
   "cell_type": "code",
   "execution_count": 5,
   "metadata": {},
   "outputs": [],
   "source": [
    "query = \"Mẹ tôi và dượng tôi ở với nhau gần 10 năm nhưng không đăng ký kết hôn. Nay dượng tôi phản bội mẹ tôi, có vợ mới và muốn chia đôi số tài sản, trong đó tiền vốn là của tôi bỏ ra cho mẹ tôi làm ăn. Ông ta đòi làm đơn kiện nếu mẹ tôi không đồng ý chia đôi số tài sản hiện tại. Trường hợp này phải giải quyết như thế nào? (Số tiền tôi đưa mẹ làm ăn không có giấy tờ gì chứng minh cả)\""
   ]
  },
  {
   "cell_type": "code",
   "execution_count": 6,
   "metadata": {},
   "outputs": [
    {
     "name": "stdout",
     "output_type": "stream",
     "text": [
      "1. Quy định của pháp luật về việc chia tài sản trong trường hợp sống chung như vợ chồng nhưng không đăng ký kết hôn là gì?\n",
      "2. Mẹ tôi có quyền yêu cầu chia tài sản trong trường hợp dượng tôi không có quyền sở hữu đối với tài sản đó không?\n",
      "3. Nếu không có giấy tờ chứng minh số tiền tôi đã đưa cho mẹ làm ăn, tôi có thể bảo vệ quyền lợi của mình như thế nào?\n",
      "4. Dượng tôi có quyền khởi kiện để yêu cầu chia tài sản trong trường hợp này không?\n",
      "5. Các bước cần thực hiện để giải quyết tranh chấp tài sản giữa mẹ tôi và dượng tôi là gì?\n"
     ]
    }
   ],
   "source": [
    "output_classify = agent1.run(query=query)\n",
    "if output_classify == 'Có':\n",
    "    output_analysis = agent2.run(query=query)\n",
    "    print(output_analysis)\n",
    "else:\n",
    "    print(\"No support\")\n"
   ]
  },
  {
   "cell_type": "code",
   "execution_count": 8,
   "metadata": {},
   "outputs": [
    {
     "name": "stdout",
     "output_type": "stream",
     "text": [
      "1. Mẹ tôi có quyền gì theo luật dân sự đối với tài sản mà dượng tôi đã thu lợi từ việc làm ăn có liên quan đến sự đầu tư của tôi?\n",
      "2. Việc không có giấy tờ để chứng minh đầu tư có ảnh hưởng gì đến quyền đòi tài sản của mẹ tôi không?\n",
      "3. Trong trường hợp này, quyền và nghĩa vụ của các bên liên quan được quy định như thế nào trong Bộ luật Dân sự?\n",
      "4. Có cơ sở pháp lý nào để xác định quyền sở hữu tài sản trong trường hợp không có hợp đồng hay giấy tờ chứng minh không?\n",
      "5. Nếu xảy ra tranh chấp về tài sản này, mẹ tôi có thể khởi kiện và yêu cầu gì theo quy định của pháp luật?\n"
     ]
    }
   ],
   "source": [
    "output_classify = agent1.run(query=\"Mẹ tôi có quyền gì đối với tài sản mà dượng tôi đã thu lợi từ việc làm ăn mà tôi đã đầu tư không có giấy tờ để chứng minh?\")\n",
    "if output_classify == 'Có':\n",
    "    output_analysis = agent2.run(query=\"Mẹ tôi có quyền gì đối với tài sản mà dượng tôi đã thu lợi từ việc làm ăn mà tôi đã đầu tư không có giấy tờ để chứng minh?\")\n",
    "    print(output_analysis)\n",
    "else:\n",
    "    print(\"No support\")\n"
   ]
  },
  {
   "cell_type": "code",
   "execution_count": 5,
   "metadata": {},
   "outputs": [],
   "source": [
    "from knowledge_graph.neo4j_database import Neo4jDatabase"
   ]
  },
  {
   "cell_type": "code",
   "execution_count": 6,
   "metadata": {},
   "outputs": [],
   "source": [
    "import re\n",
    "\n",
    "def capture_number(text):\n",
    "    # Regex pattern to capture the number\n",
    "    pattern = r\"(?<=số\\s)\\d+\"\n",
    "    # Search for the pattern in the text\n",
    "    match = re.search(pattern, text)\n",
    "    number = int(match.group())\n",
    "    return number"
   ]
  },
  {
   "cell_type": "code",
   "execution_count": 7,
   "metadata": {},
   "outputs": [],
   "source": [
    "URI = \"neo4j://localhost\"\n",
    "AUTH = (\"neo4j\", \"Abc12345\")\n",
    "\n",
    "db = Neo4jDatabase(\n",
    "        uri=URI, username=AUTH[0], password=AUTH[1]\n",
    "    )"
   ]
  },
  {
   "cell_type": "code",
   "execution_count": 23,
   "metadata": {},
   "outputs": [],
   "source": [
    "def get_list_chu_de(db_engine:Neo4jDatabase):\n",
    "    query = \"MATCH (:BoPhapDien)-[r:HAS_SECTION]-(p) RETURN p\"\n",
    "\n",
    "    with db_engine.driver.session() as session:\n",
    "        result = session.run(query).data()\n",
    "        result = [ele[\"p\"] for ele in result]\n",
    "        result = sorted(result, key = lambda x: capture_number(x['title']))\n",
    "    \n",
    "    return result\n",
    "def get_list_de_muc_theo_chu_de_id(db_engine:Neo4jDatabase, chude_id: str):\n",
    "    query = f\"MATCH (a:ChuDePhapdien {{id: \\'{chude_id}\\'}})-[r:HAS_SECTION]-(p:DeMucPhapdien) RETURN p\"\n",
    "\n",
    "    with db_engine.driver.session() as session:\n",
    "        result = session.run(query).data()\n",
    "        result = [ele[\"p\"] for ele in result]\n",
    "        result = sorted(result, key = lambda x: capture_number(x['title']))\n",
    "    \n",
    "    return result"
   ]
  },
  {
   "cell_type": "code",
   "execution_count": 24,
   "metadata": {},
   "outputs": [
    {
     "data": {
      "text/plain": [
       "[{'parent': 'efbefb52-bf45-41df-aaf4-6a4e833f333e',\n",
       "  'id': '23e1929c-6151-4f15-9d67-11d4f7964dc8',\n",
       "  'label': 'DeMucPhapdien',\n",
       "  'title': 'Đề mục số 1: Trẻ em',\n",
       "  'parent_type': 'ChuDePhapdien'},\n",
       " {'parent': 'efbefb52-bf45-41df-aaf4-6a4e833f333e',\n",
       "  'id': '83242e4c-1738-4140-afe5-a5d4f0b8d776',\n",
       "  'label': 'DeMucPhapdien',\n",
       "  'title': 'Đề mục số 2: Bình đẳng giới',\n",
       "  'parent_type': 'ChuDePhapdien'},\n",
       " {'parent': 'efbefb52-bf45-41df-aaf4-6a4e833f333e',\n",
       "  'id': 'c57132ec-b2a3-4e38-9433-afd6cc770a8c',\n",
       "  'label': 'DeMucPhapdien',\n",
       "  'title': 'Đề mục số 3: Dân số',\n",
       "  'parent_type': 'ChuDePhapdien'},\n",
       " {'parent': 'efbefb52-bf45-41df-aaf4-6a4e833f333e',\n",
       "  'id': '4913a1cf-5f78-471c-a807-ed5f8c57aaee',\n",
       "  'label': 'DeMucPhapdien',\n",
       "  'title': 'Đề mục số 4: Hôn nhân và gia đình',\n",
       "  'parent_type': 'ChuDePhapdien'},\n",
       " {'parent': 'efbefb52-bf45-41df-aaf4-6a4e833f333e',\n",
       "  'id': 'dae8ac70-fd7f-41ed-84e8-90980ae92475',\n",
       "  'label': 'DeMucPhapdien',\n",
       "  'title': 'Đề mục số 5: Phòng, chống bạo lực gia đình',\n",
       "  'parent_type': 'ChuDePhapdien'}]"
      ]
     },
     "execution_count": 24,
     "metadata": {},
     "output_type": "execute_result"
    }
   ],
   "source": [
    "get_list_de_muc_theo_chu_de_id(db_engine = db, chude_id ='efbefb52-bf45-41df-aaf4-6a4e833f333e')"
   ]
  },
  {
   "cell_type": "code",
   "execution_count": 8,
   "metadata": {},
   "outputs": [],
   "source": [
    "query = \"MATCH (:BoPhapDien)-[r:HAS_SECTION]-(p) RETURN p\""
   ]
  },
  {
   "cell_type": "code",
   "execution_count": 9,
   "metadata": {},
   "outputs": [
    {
     "data": {
      "text/plain": [
       "[{'parent': '00000000000000000000',\n",
       "  'id': 'c3b69131-2931-4f67-926e-b244e18e8081',\n",
       "  'label': 'ChuDePhapdien',\n",
       "  'title': 'Chủ đề số 1: An ninh quốc gia',\n",
       "  'parent_type': 'BoPhapDien'},\n",
       " {'parent': '00000000000000000000',\n",
       "  'id': '5576c952-dabe-4363-b94a-13419996ff4b',\n",
       "  'label': 'ChuDePhapdien',\n",
       "  'title': 'Chủ đề số 2: Bảo hiểm',\n",
       "  'parent_type': 'BoPhapDien'},\n",
       " {'parent': '00000000000000000000',\n",
       "  'id': 'c124612e-a23f-4199-8747-55fe4e8a8c89',\n",
       "  'label': 'ChuDePhapdien',\n",
       "  'title': 'Chủ đề số 3: Bưu chính, viễn thông',\n",
       "  'parent_type': 'BoPhapDien'},\n",
       " {'parent': '00000000000000000000',\n",
       "  'id': 'e967223c-d26a-4c7f-a8d9-420843bd5bf9',\n",
       "  'label': 'ChuDePhapdien',\n",
       "  'title': 'Chủ đề số 4: Bổ trợ tư pháp',\n",
       "  'parent_type': 'BoPhapDien'},\n",
       " {'parent': '00000000000000000000',\n",
       "  'id': 'cb5c6841-2c38-48ca-b946-da24c8d8a099',\n",
       "  'label': 'ChuDePhapdien',\n",
       "  'title': 'Chủ đề số 5: Cán bộ, công chức, viên chức',\n",
       "  'parent_type': 'BoPhapDien'},\n",
       " {'parent': '00000000000000000000',\n",
       "  'id': 'e4b6a170-8415-42a5-9ee2-f8eb147f5d15',\n",
       "  'label': 'ChuDePhapdien',\n",
       "  'title': 'Chủ đề số 6: Chính sách xã hội',\n",
       "  'parent_type': 'BoPhapDien'},\n",
       " {'parent': '00000000000000000000',\n",
       "  'id': '3a225bc6-c8c9-459e-967e-9876d4eb2c33',\n",
       "  'label': 'ChuDePhapdien',\n",
       "  'title': 'Chủ đề số 7: Công nghiệp',\n",
       "  'parent_type': 'BoPhapDien'},\n",
       " {'parent': '00000000000000000000',\n",
       "  'id': 'efbefb52-bf45-41df-aaf4-6a4e833f333e',\n",
       "  'label': 'ChuDePhapdien',\n",
       "  'title': 'Chủ đề số 8: Dân số, gia đình, trẻ em, bình đẳng giới',\n",
       "  'parent_type': 'BoPhapDien'},\n",
       " {'parent': '00000000000000000000',\n",
       "  'id': '8545ecbc-f0ce-44aa-83d6-c43d056f63f2',\n",
       "  'label': 'ChuDePhapdien',\n",
       "  'title': 'Chủ đề số 9: Dân sự',\n",
       "  'parent_type': 'BoPhapDien'},\n",
       " {'parent': '00000000000000000000',\n",
       "  'id': 'a6ee2d1a-2edc-4c30-bff5-81efbd765464',\n",
       "  'label': 'ChuDePhapdien',\n",
       "  'title': 'Chủ đề số 10: Dân tộc',\n",
       "  'parent_type': 'BoPhapDien'},\n",
       " {'parent': '00000000000000000000',\n",
       "  'id': '8e485a16-50aa-4c80-9fbe-3b286287f8c1',\n",
       "  'label': 'ChuDePhapdien',\n",
       "  'title': 'Chủ đề số 12: Doanh nghiệp, hợp tác xã',\n",
       "  'parent_type': 'BoPhapDien'},\n",
       " {'parent': '00000000000000000000',\n",
       "  'id': '0fb2411e-095b-4095-bbbe-fb8465ec4199',\n",
       "  'label': 'ChuDePhapdien',\n",
       "  'title': 'Chủ đề số 13: Giáo dục, đào tạo',\n",
       "  'parent_type': 'BoPhapDien'},\n",
       " {'parent': '00000000000000000000',\n",
       "  'id': 'b82ee309-2527-4a7d-8d4d-fccdfabbc86c',\n",
       "  'label': 'ChuDePhapdien',\n",
       "  'title': 'Chủ đề số 14: Giao thông, vận tải',\n",
       "  'parent_type': 'BoPhapDien'},\n",
       " {'parent': '00000000000000000000',\n",
       "  'id': 'a5b5fa2d-056c-48c4-b6fc-c782359511ff',\n",
       "  'label': 'ChuDePhapdien',\n",
       "  'title': 'Chủ đề số 15: Hành chính tư pháp',\n",
       "  'parent_type': 'BoPhapDien'},\n",
       " {'parent': '00000000000000000000',\n",
       "  'id': '0672ce80-caa2-4d12-a474-6d86349c9dab',\n",
       "  'label': 'ChuDePhapdien',\n",
       "  'title': 'Chủ đề số 16: Hình sự',\n",
       "  'parent_type': 'BoPhapDien'},\n",
       " {'parent': '00000000000000000000',\n",
       "  'id': '9daf2b7f-cf24-4c97-adf8-0903f6b7f18e',\n",
       "  'label': 'ChuDePhapdien',\n",
       "  'title': 'Chủ đề số 17: Kế toán, kiểm toán',\n",
       "  'parent_type': 'BoPhapDien'},\n",
       " {'parent': '00000000000000000000',\n",
       "  'id': 'ff58c8ec-ab1b-4fdd-b732-5f09f9fa09cd',\n",
       "  'label': 'ChuDePhapdien',\n",
       "  'title': 'Chủ đề số 18: Khiếu nại, tố cáo',\n",
       "  'parent_type': 'BoPhapDien'},\n",
       " {'parent': '00000000000000000000',\n",
       "  'id': '3f0ce861-9980-43c9-9dcc-8e064c536bee',\n",
       "  'label': 'ChuDePhapdien',\n",
       "  'title': 'Chủ đề số 19: Khoa học, công nghệ',\n",
       "  'parent_type': 'BoPhapDien'},\n",
       " {'parent': '00000000000000000000',\n",
       "  'id': 'ed53d710-e3ae-4741-abc7-0f5dd82dec24',\n",
       "  'label': 'ChuDePhapdien',\n",
       "  'title': 'Chủ đề số 20: Lao động',\n",
       "  'parent_type': 'BoPhapDien'},\n",
       " {'parent': '00000000000000000000',\n",
       "  'id': '1657cd3c-c513-4df5-ae6b-e39a778c640d',\n",
       "  'label': 'ChuDePhapdien',\n",
       "  'title': 'Chủ đề số 21: Môi trường',\n",
       "  'parent_type': 'BoPhapDien'},\n",
       " {'parent': '00000000000000000000',\n",
       "  'id': '0f8741e9-b3d2-488b-aa70-961ccc802227',\n",
       "  'label': 'ChuDePhapdien',\n",
       "  'title': 'Chủ đề số 22: Ngân hàng, tiền tệ',\n",
       "  'parent_type': 'BoPhapDien'},\n",
       " {'parent': '00000000000000000000',\n",
       "  'id': '6db952fa-b9dd-41f7-adf5-ccb22100ac9c',\n",
       "  'label': 'ChuDePhapdien',\n",
       "  'title': 'Chủ đề số 23: Ngoại giao, điều ước quốc tế',\n",
       "  'parent_type': 'BoPhapDien'},\n",
       " {'parent': '00000000000000000000',\n",
       "  'id': '81215563-6346-448e-bded-2933f86276bb',\n",
       "  'label': 'ChuDePhapdien',\n",
       "  'title': 'Chủ đề số 24: Nông nghiệp, nông thôn',\n",
       "  'parent_type': 'BoPhapDien'},\n",
       " {'parent': '00000000000000000000',\n",
       "  'id': '859b54fa-0c05-4807-a50c-c8be82fcae62',\n",
       "  'label': 'ChuDePhapdien',\n",
       "  'title': 'Chủ đề số 25: Quốc phòng',\n",
       "  'parent_type': 'BoPhapDien'},\n",
       " {'parent': '00000000000000000000',\n",
       "  'id': '7a9dcc15-370d-40b4-a02b-28e583b25dbf',\n",
       "  'label': 'ChuDePhapdien',\n",
       "  'title': 'Chủ đề số 26: Tài chính',\n",
       "  'parent_type': 'BoPhapDien'},\n",
       " {'parent': '00000000000000000000',\n",
       "  'id': 'c054141c-d30c-4e83-9f35-2fb1c61c6e7c',\n",
       "  'label': 'ChuDePhapdien',\n",
       "  'title': 'Chủ đề số 27: Tài nguyên',\n",
       "  'parent_type': 'BoPhapDien'},\n",
       " {'parent': '00000000000000000000',\n",
       "  'id': '1afcaf4b-85cb-4039-8627-3a8a101a7e5b',\n",
       "  'label': 'ChuDePhapdien',\n",
       "  'title': 'Chủ đề số 28: Tài sản công, nợ công, dự trữ nhà nước',\n",
       "  'parent_type': 'BoPhapDien'},\n",
       " {'parent': '00000000000000000000',\n",
       "  'id': '88a4972a-48c2-4def-926b-a71b9f6e4be7',\n",
       "  'label': 'ChuDePhapdien',\n",
       "  'title': 'Chủ đề số 30: Thi hành án',\n",
       "  'parent_type': 'BoPhapDien'},\n",
       " {'parent': '00000000000000000000',\n",
       "  'id': 'ee961e69-7a8d-4405-8fe6-ecdf7e44323f',\n",
       "  'label': 'ChuDePhapdien',\n",
       "  'title': 'Chủ đề số 31: Thống kê',\n",
       "  'parent_type': 'BoPhapDien'},\n",
       " {'parent': '00000000000000000000',\n",
       "  'id': '73b6a37d-b55b-443d-b0fd-8f7d1b215ca1',\n",
       "  'label': 'ChuDePhapdien',\n",
       "  'title': 'Chủ đề số 32: Thông tin, báo chí, xuất bản',\n",
       "  'parent_type': 'BoPhapDien'},\n",
       " {'parent': '00000000000000000000',\n",
       "  'id': '09ca05d1-7f1d-4887-a65d-a210374d1969',\n",
       "  'label': 'ChuDePhapdien',\n",
       "  'title': 'Chủ đề số 33: Thuế, phí, lệ phí, các khoản thu khác',\n",
       "  'parent_type': 'BoPhapDien'},\n",
       " {'parent': '00000000000000000000',\n",
       "  'id': '717625a2-281b-4307-b21b-68b1c73d2207',\n",
       "  'label': 'ChuDePhapdien',\n",
       "  'title': 'Chủ đề số 34: Thương mại, đầu tư, chứng khoán',\n",
       "  'parent_type': 'BoPhapDien'},\n",
       " {'parent': '00000000000000000000',\n",
       "  'id': '3fc1ee9d-eec6-4839-9c98-7ac2ca9e0792',\n",
       "  'label': 'ChuDePhapdien',\n",
       "  'title': 'Chủ đề số 35: Tổ chức bộ máy nhà nước',\n",
       "  'parent_type': 'BoPhapDien'},\n",
       " {'parent': '00000000000000000000',\n",
       "  'id': 'ce9b9ff4-87dd-44d1-add8-27c1ec82d856',\n",
       "  'label': 'ChuDePhapdien',\n",
       "  'title': 'Chủ đề số 36: Tổ chức chính trị - xã hội, hội',\n",
       "  'parent_type': 'BoPhapDien'},\n",
       " {'parent': '00000000000000000000',\n",
       "  'id': 'cef09501-9f71-4c9a-aa35-238ea8c79f76',\n",
       "  'label': 'ChuDePhapdien',\n",
       "  'title': 'Chủ đề số 37: Tố tụng và các phương thức giải quyết tranh chấp',\n",
       "  'parent_type': 'BoPhapDien'},\n",
       " {'parent': '00000000000000000000',\n",
       "  'id': '48d084d9-d3f1-4c13-a898-dde6840fe0ff',\n",
       "  'label': 'ChuDePhapdien',\n",
       "  'title': 'Chủ đề số 38: Tôn giáo, tín ngưỡng',\n",
       "  'parent_type': 'BoPhapDien'},\n",
       " {'parent': '00000000000000000000',\n",
       "  'id': '965fd0b7-e8b0-434a-83c2-9f9b2b4fbcba',\n",
       "  'label': 'ChuDePhapdien',\n",
       "  'title': 'Chủ đề số 39: Trật tự, an toàn xã hội',\n",
       "  'parent_type': 'BoPhapDien'},\n",
       " {'parent': '00000000000000000000',\n",
       "  'id': '01684735-cbae-4b6f-9471-1010ab2f350a',\n",
       "  'label': 'ChuDePhapdien',\n",
       "  'title': 'Chủ đề số 40: Tương trợ tư pháp',\n",
       "  'parent_type': 'BoPhapDien'},\n",
       " {'parent': '00000000000000000000',\n",
       "  'id': '487180ab-07c0-45c1-9e73-1ab76b2a55c9',\n",
       "  'label': 'ChuDePhapdien',\n",
       "  'title': 'Chủ đề số 41: Văn hóa, thể thao, du lịch',\n",
       "  'parent_type': 'BoPhapDien'},\n",
       " {'parent': '00000000000000000000',\n",
       "  'id': '1c1f149f-f1bf-4ddb-9f6b-b2adbf17d410',\n",
       "  'label': 'ChuDePhapdien',\n",
       "  'title': 'Chủ đề số 42: Văn thư lưu trữ',\n",
       "  'parent_type': 'BoPhapDien'},\n",
       " {'parent': '00000000000000000000',\n",
       "  'id': '11a7e159-46bf-48bf-93ec-4e415f84c678',\n",
       "  'label': 'ChuDePhapdien',\n",
       "  'title': 'Chủ đề số 43: Xây dựng, nhà ở, đô thị',\n",
       "  'parent_type': 'BoPhapDien'},\n",
       " {'parent': '00000000000000000000',\n",
       "  'id': 'ec61c177-8f68-4a69-a42b-2257d599d907',\n",
       "  'label': 'ChuDePhapdien',\n",
       "  'title': 'Chủ đề số 44: Xây dựng pháp luật và thi hành pháp luật',\n",
       "  'parent_type': 'BoPhapDien'},\n",
       " {'parent': '00000000000000000000',\n",
       "  'id': '607817d9-0840-4986-b41f-5f3e9ae650c2',\n",
       "  'label': 'ChuDePhapdien',\n",
       "  'title': 'Chủ đề số 45: Y tế, dược',\n",
       "  'parent_type': 'BoPhapDien'}]"
      ]
     },
     "execution_count": 9,
     "metadata": {},
     "output_type": "execute_result"
    }
   ],
   "source": [
    "with db.driver.session() as session:\n",
    "    result = session.run(query).data()\n",
    "    result = [ele[\"p\"] for ele in result]\n",
    "    result = sorted(result, key = lambda x: capture_number(x['title']))\n",
    "result"
   ]
  },
  {
   "cell_type": "code",
   "execution_count": 10,
   "metadata": {},
   "outputs": [],
   "source": [
    "num_choices = len(result)"
   ]
  },
  {
   "cell_type": "code",
   "execution_count": 28,
   "metadata": {},
   "outputs": [],
   "source": [
    "list_chude_content = []\n",
    "for ix, ele in enumerate(result):\n",
    "    chude_title = ele['title']\n",
    "    list_demuc = get_list_de_muc_theo_chu_de_id(db_engine=db, chude_id=ele['id'])\n",
    "    demuc_content = ', '.join([ele_m['title'] for ele_m in list_demuc])\n",
    "    chude_content = f\"{ix+1}. {chude_title} có các đề mục sau {demuc_content}\"\n",
    "    list_chude_content.append(chude_content)\n",
    "context_list = \"\\n\\n\".join(list_chude_content)"
   ]
  },
  {
   "cell_type": "code",
   "execution_count": 30,
   "metadata": {},
   "outputs": [
    {
     "name": "stdout",
     "output_type": "stream",
     "text": [
      "1. Chủ đề số 1: An ninh quốc gia có các đề mục sau Đề mục số 1: An ninh quốc gia, Đề mục số 2: Bảo vệ bí mật nhà nước, Đề mục số 3: Bảo vệ công trình quan trọng liên quan đến an ninh quốc gia, Đề mục số 4: Biên giới quốc gia, Đề mục số 5: Biển Việt Nam, Đề mục số 6: Công an nhân dân, Đề mục số 7: Cơ yếu, Đề mục số 8: Nhập cảnh, xuất cảnh, quá cảnh, cư trú của người nước ngoài tại Việt Nam, Đề mục số 9: Phòng, chống khủng bố, Đề mục số 11: An ninh mạng, Đề mục số 12: Cảnh vệ\n",
      "\n",
      "2. Chủ đề số 2: Bảo hiểm có các đề mục sau Đề mục số 1: Bảo hiểm xã hội, Đề mục số 2: Bảo hiểm y tế\n",
      "\n",
      "3. Chủ đề số 3: Bưu chính, viễn thông có các đề mục sau Đề mục số 1: An toàn thông tin mạng, Đề mục số 2: Bưu chính, Đề mục số 3: Công nghệ thông tin, Đề mục số 5: Tần số vô tuyến điện\n",
      "\n",
      "4. Chủ đề số 4: Bổ trợ tư pháp có các đề mục sau Đề mục số 1: Đấu giá tài sản, Đề mục số 2: Công chứng, Đề mục số 3: Giám định tư pháp, Đề mục số 4: Luật sư, Đề mục số 5: Trợ giúp pháp lý, Đề mục số 6: Tư vấn pháp luật\n",
      "\n",
      "5. Chủ đề số 5: Cán bộ, công chức, viên chức có các đề mục sau Đề mục số 2: Viên chức\n",
      "\n",
      "6. Chủ đề số 6: Chính sách xã hội có các đề mục sau Đề mục số 1: Chính sách trợ giúp xã hội đối với đối tượng bảo trợ xã hội, Đề mục số 2: Người cao tuổi, Đề mục số 3: Người khuyết tật, Đề mục số 4: Phòng, chống mại dâm\n",
      "\n",
      "7. Chủ đề số 7: Công nghiệp có các đề mục sau Đề mục số 3: Điện lực, Đề mục số 4: Hóa chất, Đề mục số 5: Khuyến công, Đề mục số 7: Sử dụng năng lượng tiết kiệm và hiệu quả\n",
      "\n",
      "8. Chủ đề số 8: Dân số, gia đình, trẻ em, bình đẳng giới có các đề mục sau Đề mục số 1: Trẻ em, Đề mục số 2: Bình đẳng giới, Đề mục số 3: Dân số, Đề mục số 4: Hôn nhân và gia đình, Đề mục số 5: Phòng, chống bạo lực gia đình\n",
      "\n",
      "9. Chủ đề số 9: Dân sự có các đề mục sau Đề mục số 1: Dân sự, Đề mục số 3: Quy định thi hành Bộ luật Dân sự về bảo đảm thực hiện nghĩa vụ\n",
      "\n",
      "10. Chủ đề số 10: Dân tộc có các đề mục sau Đề mục số 1: Công tác dân tộc\n",
      "\n",
      "11. Chủ đề số 12: Doanh nghiệp, hợp tác xã có các đề mục sau Đề mục số 1: Doanh nghiệp\n",
      "\n",
      "12. Chủ đề số 13: Giáo dục, đào tạo có các đề mục sau Đề mục số 1: Giáo dục, Đề mục số 2: Giáo dục đại học\n",
      "\n",
      "13. Chủ đề số 14: Giao thông, vận tải có các đề mục sau Đề mục số 1: Đường sắt, Đề mục số 2: Giao thông đường bộ, Đề mục số 3: Giao thông đường thủy nội địa, Đề mục số 4: Hàng hải Việt Nam, Đề mục số 5: Hàng không dân dụng Việt Nam\n",
      "\n",
      "14. Chủ đề số 15: Hành chính tư pháp có các đề mục sau Đề mục số 1: Cấp bản sao từ sổ gốc, chứng thực bản sao từ bản chính, chứng thực chữ ký, Đề mục số 3: Hộ tịch, Đề mục số 4: Lý lịch tư pháp, Đề mục số 5: Nuôi con nuôi, Đề mục số 6: Quốc tịch Việt Nam\n",
      "\n",
      "15. Chủ đề số 16: Hình sự có các đề mục sau Đề mục số 1: Hình sự\n",
      "\n",
      "16. Chủ đề số 17: Kế toán, kiểm toán có các đề mục sau Đề mục số 1: Kế toán, Đề mục số 2: Kiểm toán độc lập, Đề mục số 3: Kiểm toán Nhà nước\n",
      "\n",
      "17. Chủ đề số 18: Khiếu nại, tố cáo có các đề mục sau Đề mục số 1: Khiếu nại, Đề mục số 2: Phòng, chống tham nhũng, Đề mục số 4: Tiếp công dân, Đề mục số 5: Tố cáo\n",
      "\n",
      "18. Chủ đề số 19: Khoa học, công nghệ có các đề mục sau Đề mục số 1: Chất lượng sản phẩm, hàng hóa, Đề mục số 2: Chuyển giao công nghệ, Đề mục số 3: Công nghệ cao, Đề mục số 4: Đo lường, Đề mục số 6: Năng lượng nguyên tử, Đề mục số 8: Tiêu chuẩn và quy chuẩn kỹ thuật\n",
      "\n",
      "19. Chủ đề số 20: Lao động có các đề mục sau Đề mục số 1: Giáo dục nghề nghiệp, Đề mục số 2: Lao động, Đề mục số 4: Việc làm, Đề mục số 5: An toàn, vệ sinh lao động\n",
      "\n",
      "20. Chủ đề số 21: Môi trường có các đề mục sau Đề mục số 2: Đa dạng sinh học\n",
      "\n",
      "21. Chủ đề số 22: Ngân hàng, tiền tệ có các đề mục sau Đề mục số 1: Bảo hiểm tiền gửi, Đề mục số 2: Các công cụ chuyển nhượng, Đề mục số 4: Ngân hàng Nhà nước Việt Nam, Đề mục số 5: Ngoại hối\n",
      "\n",
      "22. Chủ đề số 23: Ngoại giao, điều ước quốc tế có các đề mục sau Đề mục số 1: Cơ quan đại diện nước Cộng hòa Xã hội Chủ nghĩa Việt Nam ở nước ngoài, Đề mục số 2: Dịch Quốc hiệu, tên các cơ quan, đơn vị và chức danh lãnh đạo, cán bộ công chức trong hệ thống hành chính nhà nước sang tiếng Anh để giao dịch đối ngoại, Đề mục số 4: Điều ước quốc tế, Đề mục số 5: Hàm, cấp ngoại giao, Đề mục số 6: Thỏa thuận quốc tế, Đề mục số 7: Lập và hoạt động của văn phòng đại diện của các tổ chức hợp tác, nghiên cứu của nước ngoài tại Việt Nam, Đề mục số 8: Một số chính sách đối với người Việt Nam ở nước ngoài, Đề mục số 9: Quyền ưu đãi, miễn trừ dành cho cơ quan đại diện ngoại giao, cơ quan lãnh sự và cơ quan đại diện của tổ chức quốc tế tại Việt Nam\n",
      "\n",
      "23. Chủ đề số 24: Nông nghiệp, nông thôn có các đề mục sau Đề mục số 1: Bảo vệ và kiểm dịch thực vật, Đề mục số 2: Lâm nghiệp, Đề mục số 3: Đê điều, Đề mục số 4: Trồng trọt, Đề mục số 5: Chăn nuôi, Đề mục số 6: Thủy lợi, Đề mục số 8: Quản lý sản xuất, kinh doanh muối, Đề mục số 9: Phát triển ngành nghề nông thôn, Đề mục số 12: Thú y, Đề mục số 13: Thủy sản\n",
      "\n",
      "24. Chủ đề số 25: Quốc phòng có các đề mục sau Đề mục số 1: Quản lý, bảo vệ công trình quốc phòng và khu quân sự, Đề mục số 2: Biên phòng Việt Nam, Đề mục số 3: Công nghiệp quốc phòng, Đề mục số 5: Dân quân tự vệ, Đề mục số 6: Động viên công nghiệp, Đề mục số 7: Giáo dục quốc phòng và an ninh, Đề mục số 8: Cảnh sát biển Việt Nam, Đề mục số 9: Lực lượng dự bị động viên, Đề mục số 10: Một số chế độ đối với đối tượng tham gia chiến tranh bảo vệ Tổ quốc, làm nhiệm vụ quốc tế ở Căm-pu-chia, giúp bạn Lào sau ngày 30 tháng 4 năm 1975 có từ đủ 20 năm trở lên phục vụ trong quân đội, công an đã phục viên, xuất ngũ, thôi việc, Đề mục số 11: Nghĩa vụ quân sự, Đề mục số 12: Quân nhân chuyên nghiệp, công nhân và viên chức quốc phòng, Đề mục số 13: Quốc phòng, Đề mục số 14: Sĩ quan Quân đội nhân dân Việt Nam, Đề mục số 15: Thực hiện chế độ hưu trí đối với quân nhân trực tiếp tham gia kháng chiến chống Mỹ cứu nước từ ngày 30 tháng 4 năm 1975 trở về trước có 20 năm trở lên phục vụ quân đội đã phục viên, xuất ngũ\n",
      "\n",
      "25. Chủ đề số 26: Tài chính có các đề mục sau Đề mục số 2: Hải quan, Đề mục số 3: Ngân sách nhà nước\n",
      "\n",
      "26. Chủ đề số 27: Tài nguyên có các đề mục sau Đề mục số 1: Đo đạc và bản đồ, Đề mục số 2: Khí tượng thủy văn, Đề mục số 3: Khoáng sản, Đề mục số 4: Tài nguyên, môi trường biển và hải đảo, Đề mục số 6: Hoạt động viễn thám\n",
      "\n",
      "27. Chủ đề số 28: Tài sản công, nợ công, dự trữ nhà nước có các đề mục sau Đề mục số 1: Dự trữ quốc gia, Đề mục số 2: Quản lý nợ công, Đề mục số 3: Quản lý, sử dụng tài sản công, Đề mục số 5: Quản lý và sử dụng viện trợ không hoàn lại không thuộc hỗ trợ phát triển chính thức của các cơ quản, tổ chức, cá nhân nước ngoài dành cho Việt Nam, Đề mục số 7: Quản lý, sử dụng vốn nhà nước đầu tư vào sản xuất, kinh doanh tại doanh nghiệp\n",
      "\n",
      "28. Chủ đề số 30: Thi hành án có các đề mục sau Đề mục số 2: Thi hành án dân sự, Đề mục số 4: Tổ chức và hoạt động của Thừa phát lại\n",
      "\n",
      "29. Chủ đề số 31: Thống kê có các đề mục sau Đề mục số 1: Thống kê\n",
      "\n",
      "30. Chủ đề số 32: Thông tin, báo chí, xuất bản có các đề mục sau Đề mục số 1: Báo chí, Đề mục số 2: Tiếp cận thông tin, Đề mục số 3: Xuất bản\n",
      "\n",
      "31. Chủ đề số 33: Thuế, phí, lệ phí, các khoản thu khác có các đề mục sau Đề mục số 2: Chi phí giám định, định giá; chi phí cho người làm chứng, người phiên dịch trong tố tụng, Đề mục số 3: Phí và lệ phí, Đề mục số 4: Quản lý thuế, Đề mục số 5: Thuế bảo vệ môi trường, Đề mục số 6: Thuế giá trị gia tăng, Đề mục số 7: Thuế sử dụng đất nông nghiệp, Đề mục số 8: Thuế sử dụng đất phi nông nghiệp, Đề mục số 9: Thuế tài nguyên, Đề mục số 11: Thuế thu nhập doanh nghiệp, Đề mục số 13: Thuế xuất khẩu, thuế nhập khẩu\n",
      "\n",
      "32. Chủ đề số 34: Thương mại, đầu tư, chứng khoán có các đề mục sau Đề mục số 2: Cạnh tranh, Đề mục số 3: Quản lý ngoại thương, Đề mục số 4: Chứng khoán, Đề mục số 7: Đầu tư công, Đề mục số 10: Một số hoạt động kinh doanh đặc thù, Đề mục số 11: Quản lý thị trường, Đề mục số 13: Thương mại\n",
      "\n",
      "33. Chủ đề số 35: Tổ chức bộ máy nhà nước có các đề mục sau Đề mục số 1: Bầu cử đại biểu Quốc hội và đại biểu Hội đồng nhân dân, Đề mục số 3: Hoạt động giám sát của Quốc hội và Hội đồng nhân dân, Đề mục số 4: Mặt trận Tổ quốc Việt Nam, Đề mục số 5: Thủ đô, Đề mục số 6: Tổ chức Chính phủ, Đề mục số 7: Tổ chức chính quyền địa phương, Đề mục số 8: Tổ chức Quốc hội, Đề mục số 9: Tổ chức Tòa án nhân dân, Đề mục số 10: Tổ chức Viện kiểm sát nhân dân\n",
      "\n",
      "34. Chủ đề số 36: Tổ chức chính trị - xã hội, hội có các đề mục sau Đề mục số 1: Công đoàn, Đề mục số 2: Hoạt động chữ thập đỏ, Đề mục số 3: Thanh niên, Đề mục số 4: Tổ chức, hoạt động của quỹ xã hội, quỹ từ thiện, Đề mục số 5: Quyền lập hội và tổ chức, hoạt động, quản lý hội, Đề mục số 6: Cựu chiến binh\n",
      "\n",
      "35. Chủ đề số 37: Tố tụng và các phương thức giải quyết tranh chấp có các đề mục sau Đề mục số 1: Hòa giải ở cơ sở, Đề mục số 2: Phá sản, Đề mục số 3: Thủ tục bắt giữ tàu bay, Đề mục số 4: Thủ tục bắt giữ tàu biển, Đề mục số 5: Tố tụng dân sự, Đề mục số 6: Tố tụng hành chính, Đề mục số 7: Tố tụng hình sự, Đề mục số 8: Trách nhiệm bồi thường của Nhà nước, Đề mục số 9: Trọng tài thương mại, Đề mục số 10: Thi hành tạm giữ, tạm giam, Đề mục số 11: Tổ chức cơ quan điều tra hình sự, Đề mục số 12: Hòa giải, đối thoại tại Tòa án\n",
      "\n",
      "36. Chủ đề số 38: Tôn giáo, tín ngưỡng có các đề mục sau Đề mục số 1: Tín ngưỡng, tôn giáo\n",
      "\n",
      "37. Chủ đề số 39: Trật tự, an toàn xã hội có các đề mục sau Đề mục số 1: Chứng minh nhân dân, Đề mục số 3: Cư trú, Đề mục số 4: Điều kiện về an ninh, trật tự đối với một số ngành, nghề kinh doanh có điều kiện, Đề mục số 5: Một số biện pháp bảo đảm trật tự công cộng, Đề mục số 6: Phòng cháy và chữa cháy, Đề mục số 7: Phòng, chống ma túy, Đề mục số 8: Phòng, chống mua bán người, Đề mục số 9: Cảnh sát môi trường, Đề mục số 10: Quản lý, sử dụng pháo, Đề mục số 11: Quản lý, sử dụng vũ khí, vật liệu nổ và công cụ hỗ trợ, Đề mục số 12: Quản lý và sử dụng con dấu, Đề mục số 13: Xử lý vi phạm hành chính, Đề mục số 14: Cảnh sát cơ động\n",
      "\n",
      "38. Chủ đề số 40: Tương trợ tư pháp có các đề mục sau Đề mục số 1: Tương trợ tư pháp\n",
      "\n",
      "39. Chủ đề số 41: Văn hóa, thể thao, du lịch có các đề mục sau Đề mục số 1: Hoạt động nghệ thuật biểu diễn, Đề mục số 2: Nhuận bút, thù lao đối với tác phẩm điện ảnh, mỹ thuật, nhiếp ảnh, sân khấu và các loại hình nghệ thuật biểu diễn khác, Đề mục số 4: Di sản văn hóa, Đề mục số 5: Du lịch, Đề mục số 7: Hoạt động mỹ thuật, Đề mục số 8: Hoạt động văn hóa và kinh doanh dịch vụ văn hóa công cộng, Đề mục số 9: Quảng cáo, Đề mục số 10: Quy chế đặt tên, đổi tên đường, phố và công trình công cộng, Đề mục số 11: Thể dục, thể thao, Đề mục số 12: Thư viện, Đề mục số 13: Thực hiện nếp sống văn minh trong việc cưới, việc tang, Đề mục số 14: Tổ chức lễ tang cán bộ, công chức, viên chức\n",
      "\n",
      "40. Chủ đề số 42: Văn thư lưu trữ có các đề mục sau Đề mục số 1: Công tác văn thư, Đề mục số 2: Lưu trữ\n",
      "\n",
      "41. Chủ đề số 43: Xây dựng, nhà ở, đô thị có các đề mục sau Đề mục số 1: Kiến trúc\n",
      "\n",
      "42. Chủ đề số 44: Xây dựng pháp luật và thi hành pháp luật có các đề mục sau Đề mục số 1: Ban hành văn bản quy phạm pháp luật, Đề mục số 3: Chức năng, nhiệm vụ, quyền hạn và tổ chức bộ máy của tổ chức pháp chế, Đề mục số 4: Hợp nhất văn bản quy phạm pháp luật, Đề mục số 5: Kiểm soát thủ tục hành chính, Đề mục số 7: Pháp điển hệ thống quy phạm pháp luật, Đề mục số 8: Phổ biến, giáo dục pháp luật, Đề mục số 11: Theo dõi tình hình thi hành pháp luật, Đề mục số 12: Tiếp nhận, xử lý phản ánh, kiến nghị của cá nhân, tổ chức về quy định hành chính, Đề mục số 15: Trưng cầu ý dân\n",
      "\n",
      "43. Chủ đề số 45: Y tế, dược có các đề mục sau Đề mục số 1: An toàn thực phẩm, Đề mục số 2: Bảo vệ sức khỏe nhân dân, Đề mục số 4: Dược, Đề mục số 5: Hiến, lấy, ghép mô, bộ phận cơ thể người và hiến, lấy xác, Đề mục số 7: Phòng, chống bệnh truyền nhiễm, Đề mục số 8: Phòng, chống nhiễm vi rút gây ra hội chứng suy giảm miễn dịch mắc phải ở người, Đề mục số 9: Phòng, chống tác hại của thuốc lá, Đề mục số 10: Điều kiện sản xuất mỹ phẩm, Đề mục số 11: Phòng, chống tác hại của rượu, bia, Đề mục số 12: Quản lý trang thiết bị y tế\n"
     ]
    }
   ],
   "source": [
    "print(context_list)"
   ]
  },
  {
   "cell_type": "code",
   "execution_count": 31,
   "metadata": {},
   "outputs": [],
   "source": [
    "# context_list = \"\\n\\n\".join([f\"{ix + 1}. {ele['title']} có các đề mục sau {', '.join([ele_m['title'] for ele_m in get_list_de_muc_theo_chu_de_id(db_engine = db, chude_id =ele[id])])}\" for ix, ele in enumerate(result)])"
   ]
  },
  {
   "cell_type": "code",
   "execution_count": 50,
   "metadata": {},
   "outputs": [],
   "source": [
    "query_str = \"Mẹ tôi và dượng tôi ở với nhau gần 10 năm nhưng không đăng ký kết hôn. Nay dượng tôi phản bội mẹ tôi, có vợ mới và muốn chia đôi số tài sản, trong đó tiền vốn là của tôi bỏ ra cho mẹ tôi làm ăn. Ông ta đòi làm đơn kiện nếu mẹ tôi không đồng ý chia đôi số tài sản hiện tại. Trường hợp này phải giải quyết như thế nào? (Số tiền tôi đưa mẹ làm ăn không có giấy tờ gì chứng minh cả)\"\n",
    "query_str = \"Mẹ tôi và dượng tôi ở với nhau gần 10 năm nhưng không đăng ký kết hôn. Nay ly hôn thì chia tài sản như thế nào ?\"\n",
    "# query_str = \"Tôi biết một người phản quốc. Tôi nên làm gì đây ?\""
   ]
  },
  {
   "cell_type": "code",
   "execution_count": 51,
   "metadata": {},
   "outputs": [
    {
     "data": {
      "text/plain": [
       "'Mẹ tôi và dượng tôi ở với nhau gần 10 năm nhưng không đăng ký kết hôn. Nay ly hôn thì chia tài sản như thế nào ?'"
      ]
     },
     "execution_count": 51,
     "metadata": {},
     "output_type": "execute_result"
    }
   ],
   "source": [
    "query_str"
   ]
  },
  {
   "cell_type": "code",
   "execution_count": 52,
   "metadata": {},
   "outputs": [],
   "source": [
    "max_outputs = 3"
   ]
  },
  {
   "cell_type": "code",
   "execution_count": 53,
   "metadata": {},
   "outputs": [],
   "source": [
    "prompt = \"\"\"Một số chủ đề pháp luật được đưa ra bên dưới. Chúng được cung cấp trong danh sách được đánh số (1 đến {num_choices}),\n",
    "---------------------\\n\n",
    "{context_list}\n",
    "\\n---------------------\\n\n",
    "\"Chỉ sử dụng các lựa chọn ở trên và không sử dụng kiến ​​thức trước đó, Chỉ chọn chủ đề pháp luật cần thiết, hãy trả về không quá {max_outputs} chủ đề pháp luật có liên quan nhất đến câu hỏi. \n",
    "Trả về chỉ số ở đầu mỗi chủ đề theo dạng list. Ví dụ: [2,4,8, 16,32]\n",
    "Nếu không có chủ đề nào liên quan thì trả về 'Không có chủ đề .'.\n",
    "Câu hỏi:'{query_str}'\\n\"\"\""
   ]
  },
  {
   "cell_type": "code",
   "execution_count": 54,
   "metadata": {},
   "outputs": [],
   "source": [
    "from llm import OpenAI\n",
    "llm_model = OpenAI(api_key=\"\",)"
   ]
  },
  {
   "cell_type": "code",
   "execution_count": 55,
   "metadata": {},
   "outputs": [
    {
     "data": {
      "text/plain": [
       "'[9, 15, 34]'"
      ]
     },
     "execution_count": 55,
     "metadata": {},
     "output_type": "execute_result"
    }
   ],
   "source": [
    "select_result_str = llm_model.generate(\n",
    "    query = prompt.format(\n",
    "        num_choices=num_choices, \n",
    "        context_list=context_list, \n",
    "        max_outputs = max_outputs,\n",
    "        query_str=query_str\n",
    "    )\n",
    ")\n",
    "select_result_str"
   ]
  },
  {
   "cell_type": "code",
   "execution_count": 38,
   "metadata": {},
   "outputs": [
    {
     "data": {
      "text/plain": [
       "{'parent': '00000000000000000000',\n",
       " 'id': '8545ecbc-f0ce-44aa-83d6-c43d056f63f2',\n",
       " 'label': 'ChuDePhapdien',\n",
       " 'title': 'Chủ đề số 9: Dân sự',\n",
       " 'parent_type': 'BoPhapDien'}"
      ]
     },
     "execution_count": 38,
     "metadata": {},
     "output_type": "execute_result"
    }
   ],
   "source": [
    "result[8]"
   ]
  },
  {
   "cell_type": "code",
   "execution_count": 49,
   "metadata": {},
   "outputs": [
    {
     "name": "stdout",
     "output_type": "stream",
     "text": [
      "Một số chủ đề pháp luật được đưa ra bên dưới. Chúng được cung cấp trong danh sách được đánh số (1 đến 43),\n",
      "---------------------\n",
      "\n",
      "1. Chủ đề số 1: An ninh quốc gia có các đề mục sau Đề mục số 1: An ninh quốc gia, Đề mục số 2: Bảo vệ bí mật nhà nước, Đề mục số 3: Bảo vệ công trình quan trọng liên quan đến an ninh quốc gia, Đề mục số 4: Biên giới quốc gia, Đề mục số 5: Biển Việt Nam, Đề mục số 6: Công an nhân dân, Đề mục số 7: Cơ yếu, Đề mục số 8: Nhập cảnh, xuất cảnh, quá cảnh, cư trú của người nước ngoài tại Việt Nam, Đề mục số 9: Phòng, chống khủng bố, Đề mục số 11: An ninh mạng, Đề mục số 12: Cảnh vệ\n",
      "\n",
      "2. Chủ đề số 2: Bảo hiểm có các đề mục sau Đề mục số 1: Bảo hiểm xã hội, Đề mục số 2: Bảo hiểm y tế\n",
      "\n",
      "3. Chủ đề số 3: Bưu chính, viễn thông có các đề mục sau Đề mục số 1: An toàn thông tin mạng, Đề mục số 2: Bưu chính, Đề mục số 3: Công nghệ thông tin, Đề mục số 5: Tần số vô tuyến điện\n",
      "\n",
      "4. Chủ đề số 4: Bổ trợ tư pháp có các đề mục sau Đề mục số 1: Đấu giá tài sản, Đề mục số 2: Công chứng, Đề mục số 3: Giám định tư pháp, Đề mục số 4: Luật sư, Đề mục số 5: Trợ giúp pháp lý, Đề mục số 6: Tư vấn pháp luật\n",
      "\n",
      "5. Chủ đề số 5: Cán bộ, công chức, viên chức có các đề mục sau Đề mục số 2: Viên chức\n",
      "\n",
      "6. Chủ đề số 6: Chính sách xã hội có các đề mục sau Đề mục số 1: Chính sách trợ giúp xã hội đối với đối tượng bảo trợ xã hội, Đề mục số 2: Người cao tuổi, Đề mục số 3: Người khuyết tật, Đề mục số 4: Phòng, chống mại dâm\n",
      "\n",
      "7. Chủ đề số 7: Công nghiệp có các đề mục sau Đề mục số 3: Điện lực, Đề mục số 4: Hóa chất, Đề mục số 5: Khuyến công, Đề mục số 7: Sử dụng năng lượng tiết kiệm và hiệu quả\n",
      "\n",
      "8. Chủ đề số 8: Dân số, gia đình, trẻ em, bình đẳng giới có các đề mục sau Đề mục số 1: Trẻ em, Đề mục số 2: Bình đẳng giới, Đề mục số 3: Dân số, Đề mục số 4: Hôn nhân và gia đình, Đề mục số 5: Phòng, chống bạo lực gia đình\n",
      "\n",
      "9. Chủ đề số 9: Dân sự có các đề mục sau Đề mục số 1: Dân sự, Đề mục số 3: Quy định thi hành Bộ luật Dân sự về bảo đảm thực hiện nghĩa vụ\n",
      "\n",
      "10. Chủ đề số 10: Dân tộc có các đề mục sau Đề mục số 1: Công tác dân tộc\n",
      "\n",
      "11. Chủ đề số 12: Doanh nghiệp, hợp tác xã có các đề mục sau Đề mục số 1: Doanh nghiệp\n",
      "\n",
      "12. Chủ đề số 13: Giáo dục, đào tạo có các đề mục sau Đề mục số 1: Giáo dục, Đề mục số 2: Giáo dục đại học\n",
      "\n",
      "13. Chủ đề số 14: Giao thông, vận tải có các đề mục sau Đề mục số 1: Đường sắt, Đề mục số 2: Giao thông đường bộ, Đề mục số 3: Giao thông đường thủy nội địa, Đề mục số 4: Hàng hải Việt Nam, Đề mục số 5: Hàng không dân dụng Việt Nam\n",
      "\n",
      "14. Chủ đề số 15: Hành chính tư pháp có các đề mục sau Đề mục số 1: Cấp bản sao từ sổ gốc, chứng thực bản sao từ bản chính, chứng thực chữ ký, Đề mục số 3: Hộ tịch, Đề mục số 4: Lý lịch tư pháp, Đề mục số 5: Nuôi con nuôi, Đề mục số 6: Quốc tịch Việt Nam\n",
      "\n",
      "15. Chủ đề số 16: Hình sự có các đề mục sau Đề mục số 1: Hình sự\n",
      "\n",
      "16. Chủ đề số 17: Kế toán, kiểm toán có các đề mục sau Đề mục số 1: Kế toán, Đề mục số 2: Kiểm toán độc lập, Đề mục số 3: Kiểm toán Nhà nước\n",
      "\n",
      "17. Chủ đề số 18: Khiếu nại, tố cáo có các đề mục sau Đề mục số 1: Khiếu nại, Đề mục số 2: Phòng, chống tham nhũng, Đề mục số 4: Tiếp công dân, Đề mục số 5: Tố cáo\n",
      "\n",
      "18. Chủ đề số 19: Khoa học, công nghệ có các đề mục sau Đề mục số 1: Chất lượng sản phẩm, hàng hóa, Đề mục số 2: Chuyển giao công nghệ, Đề mục số 3: Công nghệ cao, Đề mục số 4: Đo lường, Đề mục số 6: Năng lượng nguyên tử, Đề mục số 8: Tiêu chuẩn và quy chuẩn kỹ thuật\n",
      "\n",
      "19. Chủ đề số 20: Lao động có các đề mục sau Đề mục số 1: Giáo dục nghề nghiệp, Đề mục số 2: Lao động, Đề mục số 4: Việc làm, Đề mục số 5: An toàn, vệ sinh lao động\n",
      "\n",
      "20. Chủ đề số 21: Môi trường có các đề mục sau Đề mục số 2: Đa dạng sinh học\n",
      "\n",
      "21. Chủ đề số 22: Ngân hàng, tiền tệ có các đề mục sau Đề mục số 1: Bảo hiểm tiền gửi, Đề mục số 2: Các công cụ chuyển nhượng, Đề mục số 4: Ngân hàng Nhà nước Việt Nam, Đề mục số 5: Ngoại hối\n",
      "\n",
      "22. Chủ đề số 23: Ngoại giao, điều ước quốc tế có các đề mục sau Đề mục số 1: Cơ quan đại diện nước Cộng hòa Xã hội Chủ nghĩa Việt Nam ở nước ngoài, Đề mục số 2: Dịch Quốc hiệu, tên các cơ quan, đơn vị và chức danh lãnh đạo, cán bộ công chức trong hệ thống hành chính nhà nước sang tiếng Anh để giao dịch đối ngoại, Đề mục số 4: Điều ước quốc tế, Đề mục số 5: Hàm, cấp ngoại giao, Đề mục số 6: Thỏa thuận quốc tế, Đề mục số 7: Lập và hoạt động của văn phòng đại diện của các tổ chức hợp tác, nghiên cứu của nước ngoài tại Việt Nam, Đề mục số 8: Một số chính sách đối với người Việt Nam ở nước ngoài, Đề mục số 9: Quyền ưu đãi, miễn trừ dành cho cơ quan đại diện ngoại giao, cơ quan lãnh sự và cơ quan đại diện của tổ chức quốc tế tại Việt Nam\n",
      "\n",
      "23. Chủ đề số 24: Nông nghiệp, nông thôn có các đề mục sau Đề mục số 1: Bảo vệ và kiểm dịch thực vật, Đề mục số 2: Lâm nghiệp, Đề mục số 3: Đê điều, Đề mục số 4: Trồng trọt, Đề mục số 5: Chăn nuôi, Đề mục số 6: Thủy lợi, Đề mục số 8: Quản lý sản xuất, kinh doanh muối, Đề mục số 9: Phát triển ngành nghề nông thôn, Đề mục số 12: Thú y, Đề mục số 13: Thủy sản\n",
      "\n",
      "24. Chủ đề số 25: Quốc phòng có các đề mục sau Đề mục số 1: Quản lý, bảo vệ công trình quốc phòng và khu quân sự, Đề mục số 2: Biên phòng Việt Nam, Đề mục số 3: Công nghiệp quốc phòng, Đề mục số 5: Dân quân tự vệ, Đề mục số 6: Động viên công nghiệp, Đề mục số 7: Giáo dục quốc phòng và an ninh, Đề mục số 8: Cảnh sát biển Việt Nam, Đề mục số 9: Lực lượng dự bị động viên, Đề mục số 10: Một số chế độ đối với đối tượng tham gia chiến tranh bảo vệ Tổ quốc, làm nhiệm vụ quốc tế ở Căm-pu-chia, giúp bạn Lào sau ngày 30 tháng 4 năm 1975 có từ đủ 20 năm trở lên phục vụ trong quân đội, công an đã phục viên, xuất ngũ, thôi việc, Đề mục số 11: Nghĩa vụ quân sự, Đề mục số 12: Quân nhân chuyên nghiệp, công nhân và viên chức quốc phòng, Đề mục số 13: Quốc phòng, Đề mục số 14: Sĩ quan Quân đội nhân dân Việt Nam, Đề mục số 15: Thực hiện chế độ hưu trí đối với quân nhân trực tiếp tham gia kháng chiến chống Mỹ cứu nước từ ngày 30 tháng 4 năm 1975 trở về trước có 20 năm trở lên phục vụ quân đội đã phục viên, xuất ngũ\n",
      "\n",
      "25. Chủ đề số 26: Tài chính có các đề mục sau Đề mục số 2: Hải quan, Đề mục số 3: Ngân sách nhà nước\n",
      "\n",
      "26. Chủ đề số 27: Tài nguyên có các đề mục sau Đề mục số 1: Đo đạc và bản đồ, Đề mục số 2: Khí tượng thủy văn, Đề mục số 3: Khoáng sản, Đề mục số 4: Tài nguyên, môi trường biển và hải đảo, Đề mục số 6: Hoạt động viễn thám\n",
      "\n",
      "27. Chủ đề số 28: Tài sản công, nợ công, dự trữ nhà nước có các đề mục sau Đề mục số 1: Dự trữ quốc gia, Đề mục số 2: Quản lý nợ công, Đề mục số 3: Quản lý, sử dụng tài sản công, Đề mục số 5: Quản lý và sử dụng viện trợ không hoàn lại không thuộc hỗ trợ phát triển chính thức của các cơ quản, tổ chức, cá nhân nước ngoài dành cho Việt Nam, Đề mục số 7: Quản lý, sử dụng vốn nhà nước đầu tư vào sản xuất, kinh doanh tại doanh nghiệp\n",
      "\n",
      "28. Chủ đề số 30: Thi hành án có các đề mục sau Đề mục số 2: Thi hành án dân sự, Đề mục số 4: Tổ chức và hoạt động của Thừa phát lại\n",
      "\n",
      "29. Chủ đề số 31: Thống kê có các đề mục sau Đề mục số 1: Thống kê\n",
      "\n",
      "30. Chủ đề số 32: Thông tin, báo chí, xuất bản có các đề mục sau Đề mục số 1: Báo chí, Đề mục số 2: Tiếp cận thông tin, Đề mục số 3: Xuất bản\n",
      "\n",
      "31. Chủ đề số 33: Thuế, phí, lệ phí, các khoản thu khác có các đề mục sau Đề mục số 2: Chi phí giám định, định giá; chi phí cho người làm chứng, người phiên dịch trong tố tụng, Đề mục số 3: Phí và lệ phí, Đề mục số 4: Quản lý thuế, Đề mục số 5: Thuế bảo vệ môi trường, Đề mục số 6: Thuế giá trị gia tăng, Đề mục số 7: Thuế sử dụng đất nông nghiệp, Đề mục số 8: Thuế sử dụng đất phi nông nghiệp, Đề mục số 9: Thuế tài nguyên, Đề mục số 11: Thuế thu nhập doanh nghiệp, Đề mục số 13: Thuế xuất khẩu, thuế nhập khẩu\n",
      "\n",
      "32. Chủ đề số 34: Thương mại, đầu tư, chứng khoán có các đề mục sau Đề mục số 2: Cạnh tranh, Đề mục số 3: Quản lý ngoại thương, Đề mục số 4: Chứng khoán, Đề mục số 7: Đầu tư công, Đề mục số 10: Một số hoạt động kinh doanh đặc thù, Đề mục số 11: Quản lý thị trường, Đề mục số 13: Thương mại\n",
      "\n",
      "33. Chủ đề số 35: Tổ chức bộ máy nhà nước có các đề mục sau Đề mục số 1: Bầu cử đại biểu Quốc hội và đại biểu Hội đồng nhân dân, Đề mục số 3: Hoạt động giám sát của Quốc hội và Hội đồng nhân dân, Đề mục số 4: Mặt trận Tổ quốc Việt Nam, Đề mục số 5: Thủ đô, Đề mục số 6: Tổ chức Chính phủ, Đề mục số 7: Tổ chức chính quyền địa phương, Đề mục số 8: Tổ chức Quốc hội, Đề mục số 9: Tổ chức Tòa án nhân dân, Đề mục số 10: Tổ chức Viện kiểm sát nhân dân\n",
      "\n",
      "34. Chủ đề số 36: Tổ chức chính trị - xã hội, hội có các đề mục sau Đề mục số 1: Công đoàn, Đề mục số 2: Hoạt động chữ thập đỏ, Đề mục số 3: Thanh niên, Đề mục số 4: Tổ chức, hoạt động của quỹ xã hội, quỹ từ thiện, Đề mục số 5: Quyền lập hội và tổ chức, hoạt động, quản lý hội, Đề mục số 6: Cựu chiến binh\n",
      "\n",
      "35. Chủ đề số 37: Tố tụng và các phương thức giải quyết tranh chấp có các đề mục sau Đề mục số 1: Hòa giải ở cơ sở, Đề mục số 2: Phá sản, Đề mục số 3: Thủ tục bắt giữ tàu bay, Đề mục số 4: Thủ tục bắt giữ tàu biển, Đề mục số 5: Tố tụng dân sự, Đề mục số 6: Tố tụng hành chính, Đề mục số 7: Tố tụng hình sự, Đề mục số 8: Trách nhiệm bồi thường của Nhà nước, Đề mục số 9: Trọng tài thương mại, Đề mục số 10: Thi hành tạm giữ, tạm giam, Đề mục số 11: Tổ chức cơ quan điều tra hình sự, Đề mục số 12: Hòa giải, đối thoại tại Tòa án\n",
      "\n",
      "36. Chủ đề số 38: Tôn giáo, tín ngưỡng có các đề mục sau Đề mục số 1: Tín ngưỡng, tôn giáo\n",
      "\n",
      "37. Chủ đề số 39: Trật tự, an toàn xã hội có các đề mục sau Đề mục số 1: Chứng minh nhân dân, Đề mục số 3: Cư trú, Đề mục số 4: Điều kiện về an ninh, trật tự đối với một số ngành, nghề kinh doanh có điều kiện, Đề mục số 5: Một số biện pháp bảo đảm trật tự công cộng, Đề mục số 6: Phòng cháy và chữa cháy, Đề mục số 7: Phòng, chống ma túy, Đề mục số 8: Phòng, chống mua bán người, Đề mục số 9: Cảnh sát môi trường, Đề mục số 10: Quản lý, sử dụng pháo, Đề mục số 11: Quản lý, sử dụng vũ khí, vật liệu nổ và công cụ hỗ trợ, Đề mục số 12: Quản lý và sử dụng con dấu, Đề mục số 13: Xử lý vi phạm hành chính, Đề mục số 14: Cảnh sát cơ động\n",
      "\n",
      "38. Chủ đề số 40: Tương trợ tư pháp có các đề mục sau Đề mục số 1: Tương trợ tư pháp\n",
      "\n",
      "39. Chủ đề số 41: Văn hóa, thể thao, du lịch có các đề mục sau Đề mục số 1: Hoạt động nghệ thuật biểu diễn, Đề mục số 2: Nhuận bút, thù lao đối với tác phẩm điện ảnh, mỹ thuật, nhiếp ảnh, sân khấu và các loại hình nghệ thuật biểu diễn khác, Đề mục số 4: Di sản văn hóa, Đề mục số 5: Du lịch, Đề mục số 7: Hoạt động mỹ thuật, Đề mục số 8: Hoạt động văn hóa và kinh doanh dịch vụ văn hóa công cộng, Đề mục số 9: Quảng cáo, Đề mục số 10: Quy chế đặt tên, đổi tên đường, phố và công trình công cộng, Đề mục số 11: Thể dục, thể thao, Đề mục số 12: Thư viện, Đề mục số 13: Thực hiện nếp sống văn minh trong việc cưới, việc tang, Đề mục số 14: Tổ chức lễ tang cán bộ, công chức, viên chức\n",
      "\n",
      "40. Chủ đề số 42: Văn thư lưu trữ có các đề mục sau Đề mục số 1: Công tác văn thư, Đề mục số 2: Lưu trữ\n",
      "\n",
      "41. Chủ đề số 43: Xây dựng, nhà ở, đô thị có các đề mục sau Đề mục số 1: Kiến trúc\n",
      "\n",
      "42. Chủ đề số 44: Xây dựng pháp luật và thi hành pháp luật có các đề mục sau Đề mục số 1: Ban hành văn bản quy phạm pháp luật, Đề mục số 3: Chức năng, nhiệm vụ, quyền hạn và tổ chức bộ máy của tổ chức pháp chế, Đề mục số 4: Hợp nhất văn bản quy phạm pháp luật, Đề mục số 5: Kiểm soát thủ tục hành chính, Đề mục số 7: Pháp điển hệ thống quy phạm pháp luật, Đề mục số 8: Phổ biến, giáo dục pháp luật, Đề mục số 11: Theo dõi tình hình thi hành pháp luật, Đề mục số 12: Tiếp nhận, xử lý phản ánh, kiến nghị của cá nhân, tổ chức về quy định hành chính, Đề mục số 15: Trưng cầu ý dân\n",
      "\n",
      "43. Chủ đề số 45: Y tế, dược có các đề mục sau Đề mục số 1: An toàn thực phẩm, Đề mục số 2: Bảo vệ sức khỏe nhân dân, Đề mục số 4: Dược, Đề mục số 5: Hiến, lấy, ghép mô, bộ phận cơ thể người và hiến, lấy xác, Đề mục số 7: Phòng, chống bệnh truyền nhiễm, Đề mục số 8: Phòng, chống nhiễm vi rút gây ra hội chứng suy giảm miễn dịch mắc phải ở người, Đề mục số 9: Phòng, chống tác hại của thuốc lá, Đề mục số 10: Điều kiện sản xuất mỹ phẩm, Đề mục số 11: Phòng, chống tác hại của rượu, bia, Đề mục số 12: Quản lý trang thiết bị y tế\n",
      "\n",
      "---------------------\n",
      "\n",
      "\"Chỉ sử dụng các lựa chọn ở trên và không sử dụng kiến ​​thức trước đó, Chỉ chọn chủ đề pháp luật cần thiết, hãy trả về không quá 3 chủ đề pháp luật có liên quan nhất đến câu hỏi. \n",
      "Trả về chỉ số ở đầu mỗi chủ đề theo dạng list. Ví dụ: [2,4,8, 16,32]\n",
      "Nếu không có chủ đề nào liên quan thì trả về 'Không có chủ đề .'.\n",
      "Câu hỏi:'Tôi biết một người phản quốc. Tôi nên làm gì đây ?'\n",
      "\n"
     ]
    }
   ],
   "source": [
    "print(prompt.format(\n",
    "        num_choices=num_choices, \n",
    "        context_list=context_list, \n",
    "        max_outputs = max_outputs,\n",
    "        query_str=query_str\n",
    "    ))"
   ]
  },
  {
   "cell_type": "code",
   "execution_count": null,
   "metadata": {},
   "outputs": [],
   "source": []
  }
 ],
 "metadata": {
  "kernelspec": {
   "display_name": "chatbot",
   "language": "python",
   "name": "python3"
  },
  "language_info": {
   "codemirror_mode": {
    "name": "ipython",
    "version": 3
   },
   "file_extension": ".py",
   "mimetype": "text/x-python",
   "name": "python",
   "nbconvert_exporter": "python",
   "pygments_lexer": "ipython3",
   "version": "3.10.14"
  }
 },
 "nbformat": 4,
 "nbformat_minor": 2
}
